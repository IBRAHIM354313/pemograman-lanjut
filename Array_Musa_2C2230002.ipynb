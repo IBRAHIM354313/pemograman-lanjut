{
  "nbformat": 4,
  "nbformat_minor": 0,
  "metadata": {
    "colab": {
      "provenance": [],
      "include_colab_link": true
    },
    "kernelspec": {
      "name": "python3",
      "display_name": "Python 3"
    },
    "language_info": {
      "name": "python"
    }
  },
  "cells": [
    {
      "cell_type": "markdown",
      "metadata": {
        "id": "view-in-github",
        "colab_type": "text"
      },
      "source": [
        "<a href=\"https://colab.research.google.com/github/IBRAHIM354313/pemograman-lanjut/blob/main/Array_Musa_2C2230002.ipynb\" target=\"_parent\"><img src=\"https://colab.research.google.com/assets/colab-badge.svg\" alt=\"Open In Colab\"/></a>"
      ]
    },
    {
      "cell_type": "markdown",
      "source": [
        "#**🖥️👩🏻‍💻PRAKTIKUM PEMROGRAMAN LANJUT🔥**\n",
        "##**Pertemuan (3) Array - Senin, 28 Oktober 2024**\n",
        "\n",
        "👤 Nama: Muhammad Musa Ibrahim / NRP: 2C2230002 / Kelas: III/A Sains Data\n",
        "\n",
        "💬Deskripsi Pembahasan Materi Array:\n",
        "\n",
        "**1.1. Definisi Array**\n",
        "\n",
        "Array adalah variabel dengan satu buah nama, tetapi mengandung banyak nilai. Akses nilainilainya dilakukan dengan indeks\n",
        "\n",
        "**1.2. Deklarasi Array**\n",
        "\n",
        "Contoh deklarasi array:\n",
        "\n",
        "x = [0 for i in range(n)] membuat array berukuran n dengan isi 0.\n",
        "\n",
        "x = [\"\"for i in range(100)] membuat array berukuran 100 dengan isi karakter \"\".\n",
        "\n",
        "**1.3. Array dan Variabel**\n",
        "\n",
        "Suatu array dapat kita anggap sebagai variabel, sehingga segala jenis operasi pada variabel juga berlaku pada array\n",
        "\n",
        "**1.4. String**\n",
        "\n",
        "String dapat dianggap sebagai array of character, namun tipe data string memiliki karakteristik yang berbeda dengan array of character yaitu string merupakan tipe data immutable. Artinya, string tidak dapat diubah nilainya setelah dideklarasikan.\n"
      ],
      "metadata": {
        "id": "_bN6_LxQCJZT"
      }
    },
    {
      "cell_type": "markdown",
      "source": [
        "#🤸🏻‍♀️ EKSPLORASI PRIBADI DI KELAS ✨"
      ],
      "metadata": {
        "id": "N0U2Qjks8P9F"
      }
    },
    {
      "cell_type": "markdown",
      "source": [
        "1.SUSUNAN (LIST)"
      ],
      "metadata": {
        "id": "s254QI4YhHSw"
      }
    },
    {
      "cell_type": "code",
      "execution_count": 1,
      "metadata": {
        "id": "itmMcxv88OIm",
        "colab": {
          "base_uri": "https://localhost:8080/"
        },
        "outputId": "31bde052-d893-4f7a-d34c-d0e1826d3ef0"
      },
      "outputs": [
        {
          "output_type": "stream",
          "name": "stdout",
          "text": [
            "['Ford', 'Volvo', 'BMW']\n"
          ]
        }
      ],
      "source": [
        "cars = [\"Ford\", \"Volvo\", \"BMW\"]\n",
        "\n",
        "print(cars)"
      ]
    },
    {
      "cell_type": "markdown",
      "source": [
        "**Interpretasi Kode :**\n",
        "\n",
        "Deklarasi variabel dengan nama 'cars', nilainya di tetapkan sebagai sebuah list yang berisi tiga string: ford, volvo, bmw.\n",
        "\n",
        "fungsi print akan mencetak isi list 'cars'\n",
        "\n",
        "**Interpretasi Output :**\n",
        "\n",
        "Program telah berhasil mengeluarkan isi list 'cars' ke layar, yaitu ['Ford', 'Volvo', 'BMW']. Dengan demikian, kita dapat melihat bahwa semua elemen list 'Ford', 'Volvo', dan 'BMW' telah ditejermahkan secara benar\n",
        "\n"
      ],
      "metadata": {
        "id": "TGlbzAw2g7sT"
      }
    },
    {
      "cell_type": "markdown",
      "source": [
        "2. MENGAKSES ELEMEN ARRAY"
      ],
      "metadata": {
        "id": "cEh0gUvphRuu"
      }
    },
    {
      "cell_type": "code",
      "source": [
        "\"\"\"contoh 1:\n",
        "Dapatkan nilai item array pertama:\"\"\"\n",
        "\n",
        "cars = [\"Ford\", \"Volvo\", \"BMW\"]\n",
        "x = cars[0]\n",
        "print(x)"
      ],
      "metadata": {
        "colab": {
          "base_uri": "https://localhost:8080/"
        },
        "id": "b_9bEo3Eg5FT",
        "outputId": "80c1067d-825e-4e46-b9c8-b40fce0c0390"
      },
      "execution_count": 2,
      "outputs": [
        {
          "output_type": "stream",
          "name": "stdout",
          "text": [
            "Ford\n"
          ]
        }
      ]
    },
    {
      "cell_type": "markdown",
      "source": [
        "**Interpretasi Kode :**\n",
        "Mendefinisikan sebuah daftar bernama cars yang berisi tiga string: \"Ford\", \"Volvo\", dan \"BMW\". Setiap elemen dalam daftar ini diindeks mulai dari 0.\n",
        "\n",
        "Kemudian, mengambil elemen pertama dari daftar cars, yaitu \"Ford\", dan menyimpannya dalam variabel x. Karena indeks dimulai dari 0, cars merujuk pada elemen pertama.\n",
        "\n",
        "Cetak nilai yang ada di dalam variabel x ke layar. Nilai yang dicetak adalah \"Ford\".\n",
        "\n",
        "**Interpretasi Output :**\n",
        "Ketika program dijalankan, output yang dihasilkan adalah:\n",
        "\n",
        "Ford\n",
        "\n",
        "Output ini menunjukkan bahwa program berhasil mengambil dan mencetak nilai dari elemen pertama dalam daftar cars. Dengan demikian, program ini berfungsi dengan baik untuk menunjukkan cara mengakses elemen dalam daftar menggunakan indeks."
      ],
      "metadata": {
        "id": "KV429mOEhezi"
      }
    },
    {
      "cell_type": "code",
      "source": [
        "\"\"\"contoh 2:\n",
        "Ubah nilai item array pertama:\"\"\"\n",
        "\n",
        "cars = [\"Ford\", \"Volvo\", \"BMW\"]\n",
        "cars[1] = \"Toyota\"\n",
        "print(cars)"
      ],
      "metadata": {
        "colab": {
          "base_uri": "https://localhost:8080/"
        },
        "id": "pyh-25GchyvP",
        "outputId": "200418e3-82a7-45aa-fe70-9c81b18cd4a6"
      },
      "execution_count": 3,
      "outputs": [
        {
          "output_type": "stream",
          "name": "stdout",
          "text": [
            "['Ford', 'Toyota', 'BMW']\n"
          ]
        }
      ]
    },
    {
      "cell_type": "markdown",
      "source": [
        "**Interpretasi Kode :**\n",
        "\n",
        "Mendeklarasikan sebuah list bernama cars yang berisi tiga elemen: \"Ford\", \"Volvo\", dan \"BMW\".\n",
        "\n",
        "Kemudian, mengubah nilai elemen kedua dari list cars. Dalam Python, indeks dimulai dari 0, sehingga cars merujuk pada elemen kedua, yaitu \"Volvo\". Kita menggantinya dengan \"Toyota\". Setelah eksekusi baris ini, list cars akan menjadi: [\"Ford\", \"Toyota\", \"BMW\"].\n",
        "\n",
        "Setelah perubahan yang dilakukan pada langkah sebelumnya, output yang dihasilkan akan menunjukkan list yang telah diperbarui.\n",
        "\n",
        "\n",
        "\n",
        "**Interpretasi Output :**\n",
        "\n",
        "Output menunjukkan bahwa elemen kedua dari list cars telah berhasil diubah dari \"Volvo\" menjadi \"Toyota\". List sekarang berisi tiga elemen: \"Ford\", \"Toyota\", dan \"BMW\"."
      ],
      "metadata": {
        "id": "Afmu6E7_iCxf"
      }
    },
    {
      "cell_type": "markdown",
      "source": [
        "3.PANJANG SEBUAH ARRAY"
      ],
      "metadata": {
        "id": "_HDfye92iKBB"
      }
    },
    {
      "cell_type": "code",
      "source": [
        "\"\"\"contoh 1:\n",
        "Mengembalikan jumlah elemen dalam cars array:\"\"\"\n",
        "\n",
        "cars = [\"Ford\", \"Volvo\", \"BMW\"]\n",
        "x = len(cars)\n",
        "print(x)"
      ],
      "metadata": {
        "colab": {
          "base_uri": "https://localhost:8080/"
        },
        "id": "XaiVqltridTC",
        "outputId": "2e1c16b4-68ba-468f-8007-a59bf78f11f8"
      },
      "execution_count": 4,
      "outputs": [
        {
          "output_type": "stream",
          "name": "stdout",
          "text": [
            "3\n"
          ]
        }
      ]
    },
    {
      "cell_type": "markdown",
      "source": [
        "**Interpretasi Kode :**\n",
        "\n",
        "Mendeklarasikan sebuah list bernama cars yang berisi tiga elemen: \"Ford\", \"Volvo\", dan \"BMW\".\n",
        "\n",
        "Menggunakan fungsi len() untuk menghitung jumlah elemen dalam list cars. Fungsi len() akan mengembalikan nilai integer yang menunjukkan berapa banyak elemen yang ada dalam list tersebut. len(cars) akan menghasilkan nilai 3 karena ada tiga elemen dalam list.\n",
        "\n",
        "**Interpretasi Output :**\n",
        "\n",
        "Output menunjukkan angka 3, yang merupakan jumlah elemen dalam list cars, bahwa terdapat tiga mobil yang terdaftar dalam list: \"Ford\", \"Volvo\", dan \"BMW\"."
      ],
      "metadata": {
        "id": "whm0Z0psioNj"
      }
    },
    {
      "cell_type": "markdown",
      "source": [
        "4.ELEMEN ARRAY PENGULANGAN"
      ],
      "metadata": {
        "id": "n4JcfohUivtf"
      }
    },
    {
      "cell_type": "markdown",
      "source": [
        "dapat menggunakan for i in loop untuk mengulang semua elemen array"
      ],
      "metadata": {
        "id": "kZnidUIAi2Z3"
      }
    },
    {
      "cell_type": "code",
      "source": [
        "\"\"\"contoh 1:\n",
        "Cetak setiap item dalam cars array:\"\"\"\n",
        "\n",
        "cars = [\"Ford\", \"Volvo\", \"BMW\"]\n",
        "for x in cars:\n",
        "  print(x)\n",
        ""
      ],
      "metadata": {
        "colab": {
          "base_uri": "https://localhost:8080/"
        },
        "id": "vouiL2mvi5aV",
        "outputId": "cca093b5-99aa-4278-ce04-aa54e4ec24f2"
      },
      "execution_count": 5,
      "outputs": [
        {
          "output_type": "stream",
          "name": "stdout",
          "text": [
            "Ford\n",
            "Volvo\n",
            "BMW\n"
          ]
        }
      ]
    },
    {
      "cell_type": "markdown",
      "source": [
        "**Interpretasi Kode :**\n",
        "\n",
        "Menggunakan pernyataan for untuk melakukan iterasi (looping) melalui setiap elemen dalam list cars. Variabel x akan mengambil nilai dari setiap elemen dalam list secara berurutan.\n",
        "\n",
        "**Interpretasi Output :**\n",
        "\n",
        "Output menunjukkan setiap elemen dalam list cars dicetak di baris terpisah. Program berhasil mencetak semua mobil yang terdaftar dalam list: \"Ford\", \"Volvo\", dan \"BMW\"."
      ],
      "metadata": {
        "id": "mgHRT2XljBDV"
      }
    },
    {
      "cell_type": "markdown",
      "source": [
        "5.MENAMBAHKAN ELEMEN ARRAY"
      ],
      "metadata": {
        "id": "1OoAS-9CjHCq"
      }
    },
    {
      "cell_type": "markdown",
      "source": [
        "dapat menggunakan metode append() untuk menambahkan elemen ke dalam array"
      ],
      "metadata": {
        "id": "kBxo-HjwjTx3"
      }
    },
    {
      "cell_type": "code",
      "source": [
        "\"\"\"contoh 1:\n",
        "Tambahkan satu elemen lagi ke cars array:\"\"\"\n",
        "\n",
        "cars = [\"Ford\", \"Volvo\", \"BMW\"]\n",
        "cars.append(\"Supra\")\n",
        "print(cars)"
      ],
      "metadata": {
        "colab": {
          "base_uri": "https://localhost:8080/"
        },
        "id": "CHJQZ3wMjQxf",
        "outputId": "80a3dee9-d28e-4f65-b23c-64ced02d326e"
      },
      "execution_count": 6,
      "outputs": [
        {
          "output_type": "stream",
          "name": "stdout",
          "text": [
            "['Ford', 'Volvo', 'BMW', 'Supra']\n"
          ]
        }
      ]
    },
    {
      "cell_type": "markdown",
      "source": [
        "**Interpretasi Kode :**\n",
        "\n",
        "Menggunakan metode append() untuk menambahkan elemen baru, yaitu \"Supra\", ke akhir list cars. Metode append() akan memperluas list dengan menambahkan elemen baru tanpa mengubah elemen yang sudah ada.\n",
        "\n",
        "**Interpretasi Output :**\n",
        "\n",
        "Output menunjukkan bahwa elemen baru \"Supra\" telah berhasil ditambahkan ke akhir list cars. List sekarang berisi empat elemen: \"Ford\", \"Volvo\", \"BMW\", dan \"Supra\"."
      ],
      "metadata": {
        "id": "5zxdRktLjfNV"
      }
    },
    {
      "cell_type": "markdown",
      "source": [
        "6.MENGHAPUS ARRAY"
      ],
      "metadata": {
        "id": "5ExTA8crjn82"
      }
    },
    {
      "cell_type": "markdown",
      "source": [
        "Menggunakan metode pop() untuk menghapus elemen array"
      ],
      "metadata": {
        "id": "vcknIrtKjtzT"
      }
    },
    {
      "cell_type": "code",
      "source": [
        "\"\"\"contoh 1:\n",
        "Hapus elemen kedua dari cars array:\"\"\"\n",
        "\n",
        "cars = [\"Ford\", \"Volvo\", \"BMW\"]\n",
        "cars.pop(1)\n",
        "print(cars)\n",
        "\n"
      ],
      "metadata": {
        "colab": {
          "base_uri": "https://localhost:8080/"
        },
        "id": "UKpjU0HbjyuQ",
        "outputId": "f69726e9-b174-4cc5-fd15-8939702837c6"
      },
      "execution_count": 7,
      "outputs": [
        {
          "output_type": "stream",
          "name": "stdout",
          "text": [
            "['Ford', 'BMW']\n"
          ]
        }
      ]
    },
    {
      "cell_type": "markdown",
      "source": [
        "**Interpretasi Kode :**\n",
        "\n",
        "Menggunakan metode pop() untuk menghapus elemen kedua dari list cars. Dalam Python, indeks dimulai dari 0, sehingga cars.pop(1) akan menghapus elemen dengan indeks 1, yaitu \"Volvo\". Metode pop() juga mengembalikan nilai elemen yang dihapus, tetapi dalam kode ini nilainya tidak disimpan.\n",
        "\n",
        "**Interpretasi Output :**\n",
        "\n",
        "Output menunjukkan bahwa elemen kedua \"Volvo\" telah berhasil dihapus dari list cars. List sekarang berisi dua elemen: \"Ford\" dan \"BMW\".\n",
        "\n"
      ],
      "metadata": {
        "id": "L2WvX5R4j71B"
      }
    },
    {
      "cell_type": "markdown",
      "source": [
        "Dapat juga menggunakan metode remove()"
      ],
      "metadata": {
        "id": "KQpdKawEkX5E"
      }
    },
    {
      "cell_type": "code",
      "source": [
        "\"\"\"contoh 1:\n",
        "Hapus elemen yang memiliki nilai volvo:\"\"\"\n",
        "\n",
        "cars = [\"Ford\", \"Volvo\", \"BMW\"]\n",
        "cars.remove(\"Volvo\")\n",
        "print(cars)\n",
        ""
      ],
      "metadata": {
        "colab": {
          "base_uri": "https://localhost:8080/"
        },
        "id": "zvvQgAufkPM-",
        "outputId": "3f3ac34f-6e83-410c-d9b5-381aa8bc9d55"
      },
      "execution_count": 9,
      "outputs": [
        {
          "output_type": "stream",
          "name": "stdout",
          "text": [
            "['Ford', 'BMW']\n"
          ]
        }
      ]
    },
    {
      "cell_type": "markdown",
      "source": [
        "**Interpretasi Kode :**\n",
        "\n",
        "menggunakan metode remove() untuk menghapus elemen yang memiliki nilai \"Volvo\" dari list cars.\n",
        "\n",
        "**Interpretasi Output :**\n",
        "\n",
        "Output menunjukkan bahwa elemen \"Volvo\" telah berhasil dihapus dari list cars. List sekarang berisi dua elemen: \"Ford\" dan \"BMW\"."
      ],
      "metadata": {
        "id": "1YAHIYb1kxRu"
      }
    },
    {
      "cell_type": "markdown",
      "source": [
        "#🧠 LATIHAN SOAL DI KELAS ⏱️"
      ],
      "metadata": {
        "id": "KEGjH0_P9D1-"
      }
    },
    {
      "cell_type": "markdown",
      "source": [
        "LATIHAN PERTEMUAN KE-3"
      ],
      "metadata": {
        "id": "6np20gHElDSP"
      }
    },
    {
      "cell_type": "markdown",
      "source": [
        "1.REVERSE"
      ],
      "metadata": {
        "id": "R-daQmOhlBQc"
      }
    },
    {
      "cell_type": "code",
      "source": [
        "# Fungsi untuk membalik urutan bilangan\n",
        "def reverse_numbers():\n",
        "    # Menerima input N\n",
        "    N = int(input(\"Masukkan N: \"))\n",
        "\n",
        "    # Menginisialisasi list untuk menyimpan bilangan\n",
        "    numbers = []\n",
        "\n",
        "    # Mengumpulkan N bilangan\n",
        "    for i in range(N):\n",
        "        num = int(input())\n",
        "        numbers.append(num)\n",
        "\n",
        "    # Menampilkan hasil dalam urutan terbalik\n",
        "    print(\"Hasil dibalik:\")\n",
        "    for num in reversed(numbers):\n",
        "        print(num, end=' ')\n",
        "\n",
        "# Memanggil fungsi\n",
        "reverse_numbers()"
      ],
      "metadata": {
        "id": "LLlXoWTtdWm3",
        "colab": {
          "base_uri": "https://localhost:8080/"
        },
        "outputId": "13a862fb-eb00-45e4-fbf9-a5d041e6c3fb"
      },
      "execution_count": 13,
      "outputs": [
        {
          "output_type": "stream",
          "name": "stdout",
          "text": [
            "Masukkan N: 5\n",
            "5\n",
            "2\n",
            "1\n",
            "6\n",
            "3\n",
            "Hasil dibalik:\n",
            "3 6 1 2 5 "
          ]
        }
      ]
    },
    {
      "cell_type": "markdown",
      "source": [
        "**NTERPRETASI CODING :**\n",
        "\n",
        "Fungsi reverse_numbers() untuk mengumpulkan N bilangan dari pengguna dan menyimpannya dalam list.\n",
        "\n",
        "Pengguna diminta memasukkan jumlah bilangan (N) dan kemudian bilangan-bilangan itu satu per satu.\n",
        "\n",
        "Bilangan yang dimasukkan disimpan dalam list numbers.\n",
        "\n",
        "**INTERPRETASI OUTPUT :**\n",
        "\n",
        "Bilangan dicetak dalam urutan terbalik menggunakan reversed()."
      ],
      "metadata": {
        "id": "JZUqKY9Nl21S"
      }
    },
    {
      "cell_type": "markdown",
      "source": [
        "2.ANAGRAM"
      ],
      "metadata": {
        "id": "s3amtH37l-_R"
      }
    },
    {
      "cell_type": "code",
      "source": [
        "# Meminta input jumlah elemen dan elemen untuk A\n",
        "nA = int(input(\"Masukkan banyaknya elemen A: \"))\n",
        "A = [int(input(f\"Masukkan elemen A ke-{i+1}: \")) for i in range(nA)]\n",
        "\n",
        "# Meminta input jumlah elemen dan elemen untuk B\n",
        "nB = int(input(\"Masukkan banyaknya elemen B: \"))\n",
        "B = [int(input(f\"Masukkan elemen B ke-{i+1}: \")) for i in range(nB)]\n",
        "\n",
        "# Cek apakah A dan B memiliki jumlah elemen yang sama dan frekuensi elemen yang sama\n",
        "if nA == nB and sorted(A) == sorted(B):\n",
        "    print(\"B adalah anagram dari A\")\n",
        "else:\n",
        "    print(\"B bukan anagram dari A\")"
      ],
      "metadata": {
        "colab": {
          "base_uri": "https://localhost:8080/"
        },
        "id": "-Ac05L1bd_H2",
        "outputId": "96b7d2b5-5976-4ca7-beb3-1e1f11d29fdf"
      },
      "execution_count": 14,
      "outputs": [
        {
          "output_type": "stream",
          "name": "stdout",
          "text": [
            "Masukkan banyaknya elemen A: 3\n",
            "Masukkan elemen A ke-1: 8\n",
            "Masukkan elemen A ke-2: 4\n",
            "Masukkan elemen A ke-3: 3\n",
            "Masukkan banyaknya elemen B: 3\n",
            "Masukkan elemen B ke-1: 4\n",
            "Masukkan elemen B ke-2: 8\n",
            "Masukkan elemen B ke-3: 3\n",
            "B adalah anagram dari A\n"
          ]
        }
      ]
    },
    {
      "cell_type": "code",
      "source": [
        "# Meminta input jumlah elemen dan elemen untuk A\n",
        "nA = int(input(\"Masukkan banyaknya elemen A: \"))\n",
        "A = [int(input(f\"Masukkan elemen A ke-{i+1}: \")) for i in range(nA)]\n",
        "\n",
        "# Meminta input jumlah elemen dan elemen untuk B\n",
        "nB = int(input(\"Masukkan banyaknya elemen B: \"))\n",
        "B = [int(input(f\"Masukkan elemen B ke-{i+1}: \")) for i in range(nB)]\n",
        "\n",
        "# Cek apakah A dan B memiliki jumlah elemen yang sama dan frekuensi elemen yang sama\n",
        "if nA == nB and sorted(A) == sorted(B):\n",
        "    print(\"B adalah anagram dari A\")\n",
        "else:\n",
        "    print(\"B bukan anagram dari A\")"
      ],
      "metadata": {
        "colab": {
          "base_uri": "https://localhost:8080/"
        },
        "id": "nuTmGVjQfxet",
        "outputId": "1d0286b8-d157-443a-a60b-d84286a3af87"
      },
      "execution_count": 15,
      "outputs": [
        {
          "output_type": "stream",
          "name": "stdout",
          "text": [
            "Masukkan banyaknya elemen A: 2\n",
            "Masukkan elemen A ke-1: 1\n",
            "Masukkan elemen A ke-2: 4\n",
            "Masukkan banyaknya elemen B: 2\n",
            "Masukkan elemen B ke-1: 1\n",
            "Masukkan elemen B ke-2: 5\n",
            "B bukan anagram dari A\n"
          ]
        }
      ]
    },
    {
      "cell_type": "markdown",
      "source": [
        "* Interpretasi coding:\n",
        "\n",
        "**Input Data:**\n",
        "\n",
        "Kode meminta pengguna untuk memasukkan jumlah elemen dan elemen-elemen dari dua daftar, yaitu A dan B.\n",
        "\n",
        "Pengguna diminta untuk memasukkan setiap elemen satu per satu, dan elemen-elemen tersebut disimpan dalam dua daftar terpisah.\n",
        "\n",
        "**Pemeriksaan Anagram:**\n",
        "\n",
        "Setelah kedua daftar diisi, kode memeriksa dua kondisi:\n",
        "\n",
        "Apakah jumlah elemen di daftar A sama dengan jumlah elemen di daftar B.\n",
        "\n",
        "Apakah elemen-elemen di kedua daftar sama jika diurutkan (frekuensi elemen juga diperiksa).\n",
        "\n",
        "Jika kedua kondisi terpenuhi, maka B dianggap sebagai anagram dari A.\n",
        "\n",
        "* Interpretasi Hasil:\n",
        "\n",
        "**Output \"B adalah anagram dari A\":**\n",
        "\n",
        "Kedua daftar (A dan B) memiliki elemen yang sama dengan frekuensi yang sama, meskipun urutannya mungkin berbeda. Contohnya, jika A berisi [1, 2, 3] dan B berisi [3, 2, 1], maka B adalah anagram dari A.\n",
        "\n",
        "**Output \"B bukan anagram dari A\":**\n",
        "\n",
        "Berarti setidaknya satu dari dua kondisi pemeriksaan tidak terpenuhi. Hal ini bisa terjadi jika jumlah elemen di A dan B berbeda, atau jika ada elemen yang berbeda antara kedua daftar. Contohnya, jika A berisi [1, 2, 3] dan B berisi [4, 5, 6], maka B bukan anagram dari A."
      ],
      "metadata": {
        "id": "HfYRP8IemuMD"
      }
    },
    {
      "cell_type": "markdown",
      "source": [
        "3.PALINDROM"
      ],
      "metadata": {
        "id": "rIhSR22pnQNw"
      }
    },
    {
      "cell_type": "code",
      "source": [
        "# Fungsi untuk mengecek apakah string adalah palindrom\n",
        "def is_palindrome(s):\n",
        "    return s == s[::-1]\n",
        "\n",
        "# Input dari pengguna\n",
        "panjang_string = int(input(\"Masukkan panjang string: \"))\n",
        "string_input = input(\"Masukkan string: \")\n",
        "\n",
        "# Validasi panjang string\n",
        "if len(string_input) != panjang_string:\n",
        "    print(f\"Panjang string yang dimasukkan tidak sesuai. Harusnya {panjang_string}.\")\n",
        "else:\n",
        "    # Cek apakah string adalah palindrom\n",
        "    if is_palindrome(string_input):\n",
        "        print(f\"{string_input} adalah palindrom\")\n",
        "    else:\n",
        "        print(f\"{string_input} bukan palindrom\")"
      ],
      "metadata": {
        "id": "ckFWrUKOhLWv",
        "colab": {
          "base_uri": "https://localhost:8080/"
        },
        "outputId": "6aeb15c0-64c1-4292-db99-f876ae6c83cd"
      },
      "execution_count": 18,
      "outputs": [
        {
          "output_type": "stream",
          "name": "stdout",
          "text": [
            "Masukkan panjang string: 10\n",
            "Masukkan string: Sepak_Bola\n",
            "Sepak_Bola bukan palindrom\n"
          ]
        }
      ]
    },
    {
      "cell_type": "code",
      "source": [
        "# Fungsi untuk mengecek apakah string adalah palindrom\n",
        "def is_palindrome(s):\n",
        "    return s == s[::-1]\n",
        "\n",
        "# Input dari pengguna\n",
        "panjang_string = int(input(\"Masukkan panjang string: \"))\n",
        "string_input = input(\"Masukkan string: \")\n",
        "\n",
        "# Validasi panjang string\n",
        "if len(string_input) != panjang_string:\n",
        "    print(f\"Panjang string yang dimasukkan tidak sesuai. Harusnya {panjang_string}.\")\n",
        "else:\n",
        "    # Cek apakah string adalah palindrom\n",
        "    if is_palindrome(string_input):\n",
        "        print(f\"{string_input} adalah palindrom\")\n",
        "    else:\n",
        "        print(f\"{string_input} bukan palindrom\")"
      ],
      "metadata": {
        "colab": {
          "base_uri": "https://localhost:8080/"
        },
        "id": "i4vUctQSn6iq",
        "outputId": "ce5d6fd5-e05f-47ad-9395-15c835f20661"
      },
      "execution_count": 19,
      "outputs": [
        {
          "output_type": "stream",
          "name": "stdout",
          "text": [
            "Masukkan panjang string: 10\n",
            "Masukkan string: I_LOVE_YOU\n",
            "I_LOVE_YOU bukan palindrom\n"
          ]
        }
      ]
    },
    {
      "cell_type": "code",
      "source": [
        "# Fungsi untuk mengecek apakah string adalah palindrom\n",
        "def is_palindrome(s):\n",
        "    return s == s[::-1]\n",
        "\n",
        "# Input dari pengguna\n",
        "panjang_string = int(input(\"Masukkan panjang string: \"))\n",
        "string_input = input(\"Masukkan string: \")\n",
        "\n",
        "# Validasi panjang string\n",
        "if len(string_input) != panjang_string:\n",
        "    print(f\"Panjang string yang dimasukkan tidak sesuai. Harusnya {panjang_string}.\")\n",
        "else:\n",
        "    # Cek apakah string adalah palindrom\n",
        "    if is_palindrome(string_input):\n",
        "        print(f\"{string_input} adalah palindrom\")\n",
        "    else:\n",
        "        print(f\"{string_input} bukan palindrom\")"
      ],
      "metadata": {
        "colab": {
          "base_uri": "https://localhost:8080/"
        },
        "id": "6CZfKgiboKdn",
        "outputId": "2b9fcae4-2771-4926-e48d-93397aa462d2"
      },
      "execution_count": 21,
      "outputs": [
        {
          "output_type": "stream",
          "name": "stdout",
          "text": [
            "Masukkan panjang string: 3\n",
            "Masukkan string: apa\n",
            "apa adalah palindrom\n"
          ]
        }
      ]
    },
    {
      "cell_type": "markdown",
      "source": [
        "**Interpretasi coding:**\n",
        "Fungsi is_palindrome(s): Fungsi ini menerima sebuah string s dan membandingkannya dengan versi terbalik dari string tersebut (s[::-1]). Jika keduanya sama, maka string tersebut adalah palindrom, dan fungsi mengembalikan True, sebaliknya mengembalikan False.\n",
        "\n",
        "Input dari pengguna: Program meminta pengguna untuk memasukkan panjang string dan string itu sendiri.\n",
        "\n",
        "Validasi panjang string: Program memeriksa apakah panjang string yang dimasukkan sesuai dengan nilai yang diminta. Jika tidak sesuai, program akan memberikan pesan kesalahan.\n",
        "\n",
        "Pemeriksaan palindrom: Jika panjang string sesuai, program akan menggunakan fungsi is_palindrome untuk memeriksa apakah string tersebut palindrom atau bukan, dan kemudian mencetak hasilnya.\n",
        "\n",
        "**Interpretasi Hasil:**\n",
        "\n",
        "Jika outputnya menyatakan bahwa string adalah palindrom, berarti string tersebut dapat dibaca sama dari depan maupun belakang (contoh: \"apa\", \"kasurrusak\").\n",
        "\n",
        "Jika outputnya menyatakan bahwa string bukan palindrom, berarti string tersebut tidak dapat dibaca sama dari depan dan belakang (contoh: \"makan\").\n",
        "\n",
        "Pesan kesalahan akan muncul jika panjang string yang dimasukkan tidak sesuai dengan panjang yang telah ditentukan."
      ],
      "metadata": {
        "id": "P3fgWfhRoSHr"
      }
    },
    {
      "cell_type": "markdown",
      "source": [
        "#🏆 POST TEST 🎯#"
      ],
      "metadata": {
        "id": "qmessxESosDF"
      }
    },
    {
      "cell_type": "markdown",
      "source": [
        "Problem (1)"
      ],
      "metadata": {
        "id": "RbFxQDcZpCGu"
      }
    },
    {
      "cell_type": "code",
      "source": [],
      "metadata": {
        "id": "Uf7auvOXo75C"
      },
      "execution_count": null,
      "outputs": []
    },
    {
      "cell_type": "markdown",
      "source": [
        "* Interpretasi coding:\n",
        "* Interpretasi hasil:"
      ],
      "metadata": {
        "id": "n2OfXy7do6Yq"
      }
    },
    {
      "cell_type": "markdown",
      "source": [
        "📌Catatan:\n",
        "\n",
        "* Notebook python ini dibuat untuk memudahkan temen-temen belajar ngoding dan pengumpulan tugas.\n",
        "\n",
        "* Silakan download notebook ini lalu upload di Google Collab milik kalian agar format pertemuan, topik pertemuan, tanggal, deskripsi pembahasan materi, baris coding dan interpretasi bisa disesuaikan dengan kebutuhan teman-teman.\n",
        "\n",
        "* Interpretasi coding dan hasil dimaksudkan agar teman-teman semakin memahami apa yang dipelajari.\n",
        "\n",
        "* Deskripsi pembahasan materi dimaksudkan agar teman-teman semakin memahami apa fokus yang dipelajari.\n",
        "\n",
        "* Tulisan di setiap sebelum baris code disebut markdown. Ada beberapa jenis simbol yang memudahkan kepenulisan markdown kita, yaitu seperti : untuk mengatur ukuran tulisan biasanya tulisan pada header menggunakan ini#, ##, ###, untuk membuat pointer menggunakan ini -, untuk membuat tulisan ter-highlight menggunakan ini   , untuk short-cut membuat tulisan jadi bold gunakan ini ** **, dan untuk tulisan miring gunakan ini * * .\n",
        "\n",
        "* Semangat belajar! 🌟✨\n",
        "\n",
        "©️ LABORATORIUM SAINS DATA 2024"
      ],
      "metadata": {
        "id": "_SdDwfTupRGw"
      }
    }
  ]
}