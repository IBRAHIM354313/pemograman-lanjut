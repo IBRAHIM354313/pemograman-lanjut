{
  "nbformat": 4,
  "nbformat_minor": 0,
  "metadata": {
    "colab": {
      "provenance": [],
      "include_colab_link": true
    },
    "kernelspec": {
      "name": "python3",
      "display_name": "Python 3"
    },
    "language_info": {
      "name": "python"
    }
  },
  "cells": [
    {
      "cell_type": "markdown",
      "metadata": {
        "id": "view-in-github",
        "colab_type": "text"
      },
      "source": [
        "<a href=\"https://colab.research.google.com/github/IBRAHIM354313/pemograman-lanjut/blob/main/Array_Musa_2C2230002.ipynb\" target=\"_parent\"><img src=\"https://colab.research.google.com/assets/colab-badge.svg\" alt=\"Open In Colab\"/></a>"
      ]
    },
    {
      "cell_type": "markdown",
      "source": [
        "#**🖥️👩🏻‍💻PRAKTIKUM PEMROGRAMAN LANJUT🔥**\n",
        "##**Pertemuan (3) Array - Senin, 28 Oktober 2024**\n",
        "\n",
        "👤 Nama: Muhammad Musa Ibrahim / NRP: 2C2230002 / Kelas: III/A Sains Data\n",
        "\n",
        "💬Deskripsi Pembahasan Materi Array:\n",
        "\n",
        "1.1. Definisi Array\n",
        "\n",
        "1.2. Deklarasi Array\n",
        "\n",
        "1.3. Array dan Variabel\n",
        "\n",
        "1.4. String\n"
      ],
      "metadata": {
        "id": "_bN6_LxQCJZT"
      }
    },
    {
      "cell_type": "markdown",
      "source": [
        "#🤸🏻‍♀️ EKSPLORASI PRIBADI DI KELAS ✨"
      ],
      "metadata": {
        "id": "N0U2Qjks8P9F"
      }
    },
    {
      "cell_type": "code",
      "execution_count": null,
      "metadata": {
        "id": "itmMcxv88OIm"
      },
      "outputs": [],
      "source": []
    },
    {
      "cell_type": "markdown",
      "source": [
        "#🧠 LATIHAN SOAL DI KELAS ⏱️"
      ],
      "metadata": {
        "id": "KEGjH0_P9D1-"
      }
    },
    {
      "cell_type": "code",
      "source": [
        "#Meminta input jumlahbilangan\n",
        "N = int(input(\"Masukan N: \"))\n",
        "bilangan = []\n",
        "for i in range(N):\n",
        "  bilangan.append"
      ],
      "metadata": {
        "id": "LLlXoWTtdWm3"
      },
      "execution_count": null,
      "outputs": []
    },
    {
      "cell_type": "code",
      "source": [
        "#Panjang String\n",
        "Panjang_string = int(input(\"Masukan Panjang String: \"))\n",
        "\n",
        "#meminta input\n",
        "string = input(\"Masukan String:\").lower()\n",
        "\n",
        "#Memeriksa string apakah palindrom\n",
        "if string == string[::-1]:\n",
        "  print(\"String Palindrom\")\n",
        "else:\n",
        "  print(\"String Bukan Palindrom\")"
      ],
      "metadata": {
        "colab": {
          "base_uri": "https://localhost:8080/"
        },
        "id": "-Ac05L1bd_H2",
        "outputId": "b0968690-a923-4174-84d2-8a67f274a229"
      },
      "execution_count": 4,
      "outputs": [
        {
          "output_type": "stream",
          "name": "stdout",
          "text": [
            "Masukan Panjang String: 5\n",
            "Masukan String:Musa\n",
            "String Bukan Palindrom\n"
          ]
        }
      ]
    },
    {
      "cell_type": "code",
      "source": [
        "#Panjang String\n",
        "Panjang_string = int(input(\"Masukan Panjang String: \"))\n",
        "\n",
        "#meminta input\n",
        "string = input(\"Masukan String:\").lower()\n",
        "\n",
        "#Memeriksa string apakah palindrom\n",
        "if string == string[::-1]:\n",
        "  print(\"String Palindrom\")\n",
        "else:\n",
        "  print(\"String Adalah Palindrom\")"
      ],
      "metadata": {
        "colab": {
          "base_uri": "https://localhost:8080/"
        },
        "id": "nuTmGVjQfxet",
        "outputId": "b10a3d5b-fb41-43f6-a379-5bd48ad454af"
      },
      "execution_count": 5,
      "outputs": [
        {
          "output_type": "stream",
          "name": "stdout",
          "text": [
            "Masukan Panjang String: 2\n",
            "Masukan String:Musa\n",
            "String Adalah Palindrom\n"
          ]
        }
      ]
    },
    {
      "cell_type": "code",
      "source": [],
      "metadata": {
        "id": "ckFWrUKOhLWv"
      },
      "execution_count": null,
      "outputs": []
    }
  ]
}