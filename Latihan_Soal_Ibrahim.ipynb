{
  "nbformat": 4,
  "nbformat_minor": 0,
  "metadata": {
    "colab": {
      "provenance": [],
      "authorship_tag": "ABX9TyPy82lHdh3W8GEimL9jQIor",
      "include_colab_link": true
    },
    "kernelspec": {
      "name": "python3",
      "display_name": "Python 3"
    },
    "language_info": {
      "name": "python"
    }
  },
  "cells": [
    {
      "cell_type": "markdown",
      "metadata": {
        "id": "view-in-github",
        "colab_type": "text"
      },
      "source": [
        "<a href=\"https://colab.research.google.com/github/IBRAHIM354313/pemograman-lanjut/blob/main/Latihan_Soal_Ibrahim.ipynb\" target=\"_parent\"><img src=\"https://colab.research.google.com/assets/colab-badge.svg\" alt=\"Open In Colab\"/></a>"
      ]
    },
    {
      "cell_type": "markdown",
      "source": [
        "#Quiz Pemrograman lanjut#"
      ],
      "metadata": {
        "id": "DQEin6AhQPB6"
      }
    },
    {
      "cell_type": "markdown",
      "source": [
        "NAMA : MUHAMMAD MUSA IBRAHIM / NRP: 2C2230002"
      ],
      "metadata": {
        "id": "0XCXrzk1QqAq"
      }
    },
    {
      "cell_type": "markdown",
      "source": [
        "**SOAL NOMOR 1**"
      ],
      "metadata": {
        "id": "SPTmWFzTQ4oM"
      }
    },
    {
      "cell_type": "code",
      "execution_count": null,
      "metadata": {
        "colab": {
          "base_uri": "https://localhost:8080/"
        },
        "id": "1WPqqQVbPXoG",
        "outputId": "a496067e-47dd-4ee6-c418-ac3f69176422"
      },
      "outputs": [
        {
          "output_type": "stream",
          "name": "stdout",
          "text": [
            "kelas pertandingan seorang atlit\n",
            "kelas A: 45 kg < berat badan < 50 kg\n",
            "kelas B: 50 kg < berat badan < 55 Kg\n",
            "kelas C: 55 kg < berat badan < 60 kg\n",
            "kelas D: 60 kg < berat badan < 65 kg\n",
            "kelas E: 70 kg < berat badan < 75 kg\n",
            "kelas F: berat badan > 70 kg\n",
            "masukan berat badan atlit\n",
            "50\n",
            "Kelas B\n"
          ]
        }
      ],
      "source": [
        "#Masukan kelas pertandingan seorang atlit\n",
        "#Masukan kelas pertandingan seorang atlit\n",
        "\n",
        "print(\"kelas pertandingan seorang atlit\")\n",
        "print(\"kelas A: 45 kg < berat badan < 50 kg\")\n",
        "print(\"kelas B: 50 kg < berat badan < 55 Kg\")\n",
        "print(\"kelas C: 55 kg < berat badan < 60 kg\")\n",
        "print(\"kelas D: 60 kg < berat badan < 65 kg\")\n",
        "print(\"kelas E: 70 kg < berat badan < 75 kg\")\n",
        "print(\"kelas F: berat badan > 70 kg\")\n",
        "\n",
        "#masukan berat badan atlit\n",
        "print(\"masukan berat badan atlit\")\n",
        "berat = int(input())\n",
        "\n",
        "if 45 < berat < 50:\n",
        "    print(\"Kelas A\")\n",
        "elif 50 <= berat < 55:\n",
        "    print(\"Kelas B\")\n",
        "elif 55 <= berat < 60:\n",
        "    print(\"Kelas C\")\n",
        "elif 60 <= berat < 65:\n",
        "    print(\"Kelas D\")\n",
        "elif 70 <= berat < 75:\n",
        "    print(\"Kelas E\")\n",
        "elif berat >= 75:\n",
        "    print(\"Kelas F\")\n",
        "else:\n",
        "    print(\"Berat badan tidak masuk dalam kelas manapun\")\n",
        "\n"
      ]
    },
    {
      "cell_type": "markdown",
      "source": [
        "**SOAL NOMOR 2**"
      ],
      "metadata": {
        "id": "A9QWeeOCPdkZ"
      }
    },
    {
      "cell_type": "code",
      "source": [
        "angka = int(input(\"masukan bilangan bulat ratusan(3 digit):\"))\n",
        "\n",
        "ratusan = angka //100\n",
        "puluhan = (angka % 100) // 10\n",
        "satuan = angka % 10\n",
        "jumlah = ratusan**3 + puluhan**3 + satuan**3\n",
        "print(ratusan,\"^3+\",puluhan,\"^3+\",satuan,\"^3+\",jumlah)\n",
        "\n",
        "if jumlah == angka:\n",
        "  print(\"bilangan\",angka,\"adalah bilangan armstrong\")\n",
        "else:\n",
        "  print(\"bilangan\",angka,\"bukan bilangan armstrong\")"
      ],
      "metadata": {
        "colab": {
          "base_uri": "https://localhost:8080/"
        },
        "id": "2emIgEFXUVF6",
        "outputId": "2bae7260-c6f3-4016-f480-016044340a78"
      },
      "execution_count": null,
      "outputs": [
        {
          "output_type": "stream",
          "name": "stdout",
          "text": [
            "masukan bilangan bulat ratusan(3 digit):371\n",
            "3 ^3+ 7 ^3+ 1 ^3+ 371\n",
            "bilangan 371 adalah bilangan armstrong\n"
          ]
        }
      ]
    },
    {
      "cell_type": "markdown",
      "source": [
        "**SOAL NOMOR 3**"
      ],
      "metadata": {
        "id": "oZ6huEfZXIfI"
      }
    },
    {
      "cell_type": "code",
      "source": [
        "angka = int(input(\"masukan jari-jari bola\"))\n",
        "r=angka\n",
        "print(\"jari-jari bola adalah\")\n",
        "print(r)\n",
        "\n",
        "angka = int(input(\"masukan volume bola\"))\n",
        "volume = 4/3 * 3.1416 * r**3\n",
        "print(\"volume bola adlah\")\n",
        "print(volume)\n",
        "\n"
      ],
      "metadata": {
        "colab": {
          "base_uri": "https://localhost:8080/"
        },
        "id": "r_8TlHhIXFcP",
        "outputId": "0858e237-ec85-40ce-cc1a-d78641dd71d0"
      },
      "execution_count": null,
      "outputs": [
        {
          "output_type": "stream",
          "name": "stdout",
          "text": [
            "masukan jari-jari bola5\n",
            "jari-jari bola adalah\n",
            "5\n",
            "masukan volume bola6\n",
            "volume bola adlah\n",
            "523.5999999999999\n"
          ]
        }
      ]
    },
    {
      "cell_type": "markdown",
      "source": [
        "**SOAL NOMOR 4**"
      ],
      "metadata": {
        "id": "e50CEQsQXqiX"
      }
    },
    {
      "cell_type": "code",
      "source": [
        "tot_tinggi = 0\n",
        "jml_siswa_benar = 0\n",
        "tinggi_benar = []\n",
        "\n",
        "n = int(input(\"Masukkan jumlah siswa: \"))\n",
        "\n",
        "print(\"\\nMasukkan tinggi setiap siswa (dalam cm):\")\n",
        "for i in range(n):\n",
        "    tinggi = int(input(f\"Tinggi siswa ke-{i+1}: \"))\n",
        "\n",
        "    if 100 <= tinggi <= 200:\n",
        "        tot_tinggi += tinggi\n",
        "        jml_siswa_benar += 1\n",
        "        tinggi_benar.append(tinggi)\n",
        "\n",
        "print(\"\\nHasil Perhitungan:\")\n",
        "if jml_siswa_benar > 0:\n",
        "    rata2 = tot_tinggi / jml_siswa_benar\n",
        "    print(f\"Jumlah siswa total: {n}\")\n",
        "    print(f\"Jumlah siswa dengan tinggi valid: {jml_siswa_benar}\")\n",
        "    print(f\"Data tinggi yang valid: {tinggi_benar}\")\n",
        "    print(f\"Rata-rata tinggi: {rata2:.2f} cm\")\n",
        "\n",
        "    if jml_siswa_benar < n:\n",
        "        print(f\"\\nCatatan: {n - jml_siswa_benar} data tinggi diabaikan karena di luar dari rentang 100-200 cm\")\n",
        "else:\n",
        "    print(\"Tidak ada data tinggi yang valid untuk dihitung (semua di luar rentang 100-200 cm)\")\n"
      ],
      "metadata": {
        "id": "ELDGWSgoXupA",
        "colab": {
          "base_uri": "https://localhost:8080/"
        },
        "outputId": "b31dbdbe-396c-478f-a5d2-6e86919d0c0d"
      },
      "execution_count": 4,
      "outputs": [
        {
          "output_type": "stream",
          "name": "stdout",
          "text": [
            "Masukkan jumlah siswa: 4\n",
            "\n",
            "Masukkan tinggi setiap siswa (dalam cm):\n",
            "Tinggi siswa ke-1: 100\n",
            "Tinggi siswa ke-2: 150\n",
            "Tinggi siswa ke-3: 175\n",
            "Tinggi siswa ke-4: 200\n",
            "\n",
            "Hasil Perhitungan:\n",
            "Jumlah siswa total: 4\n",
            "Jumlah siswa dengan tinggi valid: 4\n",
            "Data tinggi yang valid: [100, 150, 175, 200]\n",
            "Rata-rata tinggi: 156.25 cm\n"
          ]
        }
      ]
    },
    {
      "cell_type": "markdown",
      "source": [
        "**SOAL NOMOR 5**"
      ],
      "metadata": {
        "id": "RhbjMuXxX-QI"
      }
    },
    {
      "cell_type": "code",
      "source": [
        "jml_mhs = int(input(\"Masukkan jumlah mahasiswa: \"))\n",
        "\n",
        "for i in range(jml_mhs):\n",
        "    nama = input(\"Masukkan nama mahasiswa: \")\n",
        "    praktikum = float(input(\"Masukkan nilai praktikum: \"))\n",
        "    uts = float(input(\"Masukkan nilai UTS: \"))\n",
        "    uas = float(input(\"Masukkan nilai UAS: \"))\n",
        "\n",
        "    nilai_akhir = 0.2 * praktikum + 0.4 * uts + 0.4 * uas\n",
        "\n",
        "    if nilai_akhir >= 85:\n",
        "        indeks = \"A\"\n",
        "    elif 85 > nilai_akhir >= 75:\n",
        "        indeks = \"AB\"\n",
        "    elif 75 > nilai_akhir >= 70 :\n",
        "        indeks = \"B\"\n",
        "    elif 70 > nilai_akhir >= 60:\n",
        "        indeks = \"BC\"\n",
        "    elif  60 > nilai_akhir >= 50:\n",
        "        indeks = \"C\"\n",
        "    elif 50 > nilai_akhir >= 40:\n",
        "        indeks = \"D\"\n",
        "    else:\n",
        "      indeks = \"E\"\n",
        "\n",
        "\n",
        "    print(f\"Nama: {nama}\")\n",
        "    print(f\"Nilai Akhir: {nilai_akhir:}\")\n",
        "    print(f\"Indeks: {indeks}\")\n",
        ""
      ],
      "metadata": {
        "id": "2mstU7_LYC13",
        "colab": {
          "base_uri": "https://localhost:8080/"
        },
        "outputId": "bf6ebf77-baa7-4ad1-e6f8-bfb95d32cd48"
      },
      "execution_count": 1,
      "outputs": [
        {
          "output_type": "stream",
          "name": "stdout",
          "text": [
            "Masukkan jumlah mahasiswa: 2\n",
            "Masukkan nama mahasiswa: MUSA\n",
            "Masukkan nilai praktikum: 90\n",
            "Masukkan nilai UTS: 94\n",
            "Masukkan nilai UAS: 98\n",
            "Nama: MUSA\n",
            "Nilai Akhir: 94.80000000000001\n",
            "Indeks: A\n",
            "Masukkan nama mahasiswa: YAHYA\n",
            "Masukkan nilai praktikum: 85\n",
            "Masukkan nilai UTS: 87\n",
            "Masukkan nilai UAS: 90\n",
            "Nama: YAHYA\n",
            "Nilai Akhir: 87.80000000000001\n",
            "Indeks: A\n"
          ]
        }
      ]
    },
    {
      "cell_type": "markdown",
      "source": [],
      "metadata": {
        "id": "rmxPTJ7wZa3v"
      }
    },
    {
      "cell_type": "code",
      "source": [],
      "metadata": {
        "id": "Y31DYnvGZbjn"
      },
      "execution_count": null,
      "outputs": []
    }
  ]
}