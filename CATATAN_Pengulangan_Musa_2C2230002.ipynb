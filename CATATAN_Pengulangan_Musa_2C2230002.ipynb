{
  "nbformat": 4,
  "nbformat_minor": 0,
  "metadata": {
    "colab": {
      "provenance": [],
      "name": "CATATAN_Pengulangan_Musa_2C2230002.ipynb",
      "include_colab_link": true
    },
    "kernelspec": {
      "name": "python3",
      "display_name": "Python 3"
    },
    "language_info": {
      "name": "python"
    }
  },
  "cells": [
    {
      "cell_type": "markdown",
      "metadata": {
        "id": "view-in-github",
        "colab_type": "text"
      },
      "source": [
        "<a href=\"https://colab.research.google.com/github/IBRAHIM354313/pemograman-lanjut/blob/main/CATATAN_Pengulangan_Musa_2C2230002.ipynb\" target=\"_parent\"><img src=\"https://colab.research.google.com/assets/colab-badge.svg\" alt=\"Open In Colab\"/></a>"
      ]
    },
    {
      "cell_type": "markdown",
      "source": [
        "#**🖥️👩🏻‍💻PRAKTIKUM PEMROGRAMAN LANJUT🔥**\n",
        "##**Pertemuan (2) PENGULANGAN (LOOP) - Senin, 21 Oktober 2024**\n",
        "\n",
        "👤 Nama: Muhammad Musa Ibrahim / NRP: 2C2230002 / Kelas: III/A Sains Data\n",
        "\n",
        "💬Deskripsi Pembahasan Materi Pengulangan:\n",
        "\n",
        "1.1.  Pengulangan (LOOP) 🔂\n",
        "- While Loop 🐋\n",
        "\n",
        "- For Loop\n",
        "\n",
        "1.2. Pengulangan Bersarang ( NESTED LOOP) 🔂🐦‍\n",
        "\n",
        "\n"
      ],
      "metadata": {
        "id": "_bN6_LxQCJZT"
      }
    },
    {
      "cell_type": "markdown",
      "source": [
        "#🤸🏻‍♀️ EKSPLORASI PRIBADI DI KELAS ✨"
      ],
      "metadata": {
        "id": "N0U2Qjks8P9F"
      }
    },
    {
      "cell_type": "markdown",
      "source": [
        "PENGENALAN LIST"
      ],
      "metadata": {
        "id": "i9LUUnDIScm_"
      }
    },
    {
      "cell_type": "code",
      "execution_count": 1,
      "metadata": {
        "id": "itmMcxv88OIm",
        "outputId": "2af33c9d-6510-4dec-9bd2-d1d9fbefb0b2",
        "colab": {
          "base_uri": "https://localhost:8080/"
        }
      },
      "outputs": [
        {
          "output_type": "stream",
          "name": "stdout",
          "text": [
            "[10, 2, 3]\n"
          ]
        }
      ],
      "source": [
        "my_list = [1, 2, 3]\n",
        "my_list[0] = 10\n",
        "print(my_list)"
      ]
    },
    {
      "cell_type": "markdown",
      "source": [
        "**Interpretasi Coding**: dari codingan diatas terdapat sebuah list bernama 'my_list' diinisialisasi dengan tiga elemen: [1, 2, 3] Kemudian di baris kedua 'my_list[0] = 10' mengubah elemen pertama (0) dari list 'my_list' menjadi 10. kemudian di baris ketiga 'print(my_list)' mencetak isi dari 'my_list' setelah perubahan dilakukan\n",
        "\n",
        "**Interpretasi Output**: Setelah elemen pertama diubah dari 1 menjadi 10, list sekarang berisi:\n",
        "\n",
        "elemen pertama menjadi 10 yang sebelumnya adalah 1\n",
        "elemen kedua tetap 2 (tidak berubah)\n",
        "elemen ketiga tetap 3 (tidak berubah)"
      ],
      "metadata": {
        "id": "VXmPtX3gRyh3"
      }
    },
    {
      "cell_type": "markdown",
      "source": [
        "PENGENALAN TUPLE"
      ],
      "metadata": {
        "id": "WLHdfT4HSmVC"
      }
    },
    {
      "cell_type": "code",
      "source": [
        "my_tuple = [1, 2, 3]\n",
        "my_tuple[0] = 10  # Akan menghasilkan error karena tuple tidak bisa diubah\n",
        "print(my_tuple)"
      ],
      "metadata": {
        "id": "40xIjTxjZw2X",
        "outputId": "59a44a86-e4a2-4440-f5ba-332339db6273",
        "colab": {
          "base_uri": "https://localhost:8080/"
        }
      },
      "execution_count": 2,
      "outputs": [
        {
          "output_type": "stream",
          "name": "stdout",
          "text": [
            "[10, 2, 3]\n"
          ]
        }
      ]
    },
    {
      "cell_type": "markdown",
      "source": [
        "Jenis Perulangan : For Loop"
      ],
      "metadata": {
        "id": "f1J9LJyv9-YC"
      }
    },
    {
      "cell_type": "code",
      "source": [
        "var_list = [1,2,3,4,5,6,7,8,9,10]\n",
        "for i in var_list:\n",
        "  print(i)\n",
        ""
      ],
      "metadata": {
        "id": "jzpk7JhCaLAU",
        "outputId": "fc928744-c6aa-4422-c98e-5de5a2910790",
        "colab": {
          "base_uri": "https://localhost:8080/"
        }
      },
      "execution_count": 3,
      "outputs": [
        {
          "output_type": "stream",
          "name": "stdout",
          "text": [
            "1\n",
            "2\n",
            "3\n",
            "4\n",
            "5\n",
            "6\n",
            "7\n",
            "8\n",
            "9\n",
            "10\n"
          ]
        }
      ]
    },
    {
      "cell_type": "code",
      "source": [
        "huruf = \"FOOT BALL CLUB\"\n",
        "for i in huruf:\n",
        "  print(i)"
      ],
      "metadata": {
        "id": "2r_ehwszaVj1",
        "outputId": "c664e7f1-8bae-48e8-e0eb-ab04fb660a72",
        "colab": {
          "base_uri": "https://localhost:8080/"
        }
      },
      "execution_count": 5,
      "outputs": [
        {
          "output_type": "stream",
          "name": "stdout",
          "text": [
            "F\n",
            "O\n",
            "O\n",
            "T\n",
            " \n",
            "B\n",
            "A\n",
            "L\n",
            "L\n",
            " \n",
            "C\n",
            "L\n",
            "U\n",
            "B\n"
          ]
        }
      ]
    },
    {
      "cell_type": "code",
      "source": [
        "for i in range(15):\n",
        "  print(i)"
      ],
      "metadata": {
        "id": "4uCamCnkaaQs",
        "outputId": "39f69c45-d9b9-48ff-9eb3-c4f4863c8a46",
        "colab": {
          "base_uri": "https://localhost:8080/"
        }
      },
      "execution_count": 6,
      "outputs": [
        {
          "output_type": "stream",
          "name": "stdout",
          "text": [
            "0\n",
            "1\n",
            "2\n",
            "3\n",
            "4\n",
            "5\n",
            "6\n",
            "7\n",
            "8\n",
            "9\n",
            "10\n",
            "11\n",
            "12\n",
            "13\n",
            "14\n"
          ]
        }
      ]
    },
    {
      "cell_type": "code",
      "source": [
        "for i in range (1000):\n",
        "  print(\"Hello Baim Wong\")"
      ],
      "metadata": {
        "id": "Skojt_S9afTy",
        "outputId": "3500dae7-d970-43ac-ad01-6394ff3cc9d9",
        "colab": {
          "base_uri": "https://localhost:8080/"
        }
      },
      "execution_count": 7,
      "outputs": [
        {
          "output_type": "stream",
          "name": "stdout",
          "text": [
            "Hello Baim Wong\n",
            "Hello Baim Wong\n",
            "Hello Baim Wong\n",
            "Hello Baim Wong\n",
            "Hello Baim Wong\n",
            "Hello Baim Wong\n",
            "Hello Baim Wong\n",
            "Hello Baim Wong\n",
            "Hello Baim Wong\n",
            "Hello Baim Wong\n",
            "Hello Baim Wong\n",
            "Hello Baim Wong\n",
            "Hello Baim Wong\n",
            "Hello Baim Wong\n",
            "Hello Baim Wong\n",
            "Hello Baim Wong\n",
            "Hello Baim Wong\n",
            "Hello Baim Wong\n",
            "Hello Baim Wong\n",
            "Hello Baim Wong\n",
            "Hello Baim Wong\n",
            "Hello Baim Wong\n",
            "Hello Baim Wong\n",
            "Hello Baim Wong\n",
            "Hello Baim Wong\n",
            "Hello Baim Wong\n",
            "Hello Baim Wong\n",
            "Hello Baim Wong\n",
            "Hello Baim Wong\n",
            "Hello Baim Wong\n",
            "Hello Baim Wong\n",
            "Hello Baim Wong\n",
            "Hello Baim Wong\n",
            "Hello Baim Wong\n",
            "Hello Baim Wong\n",
            "Hello Baim Wong\n",
            "Hello Baim Wong\n",
            "Hello Baim Wong\n",
            "Hello Baim Wong\n",
            "Hello Baim Wong\n",
            "Hello Baim Wong\n",
            "Hello Baim Wong\n",
            "Hello Baim Wong\n",
            "Hello Baim Wong\n",
            "Hello Baim Wong\n",
            "Hello Baim Wong\n",
            "Hello Baim Wong\n",
            "Hello Baim Wong\n",
            "Hello Baim Wong\n",
            "Hello Baim Wong\n",
            "Hello Baim Wong\n",
            "Hello Baim Wong\n",
            "Hello Baim Wong\n",
            "Hello Baim Wong\n",
            "Hello Baim Wong\n",
            "Hello Baim Wong\n",
            "Hello Baim Wong\n",
            "Hello Baim Wong\n",
            "Hello Baim Wong\n",
            "Hello Baim Wong\n",
            "Hello Baim Wong\n",
            "Hello Baim Wong\n",
            "Hello Baim Wong\n",
            "Hello Baim Wong\n",
            "Hello Baim Wong\n",
            "Hello Baim Wong\n",
            "Hello Baim Wong\n",
            "Hello Baim Wong\n",
            "Hello Baim Wong\n",
            "Hello Baim Wong\n",
            "Hello Baim Wong\n",
            "Hello Baim Wong\n",
            "Hello Baim Wong\n",
            "Hello Baim Wong\n",
            "Hello Baim Wong\n",
            "Hello Baim Wong\n",
            "Hello Baim Wong\n",
            "Hello Baim Wong\n",
            "Hello Baim Wong\n",
            "Hello Baim Wong\n",
            "Hello Baim Wong\n",
            "Hello Baim Wong\n",
            "Hello Baim Wong\n",
            "Hello Baim Wong\n",
            "Hello Baim Wong\n",
            "Hello Baim Wong\n",
            "Hello Baim Wong\n",
            "Hello Baim Wong\n",
            "Hello Baim Wong\n",
            "Hello Baim Wong\n",
            "Hello Baim Wong\n",
            "Hello Baim Wong\n",
            "Hello Baim Wong\n",
            "Hello Baim Wong\n",
            "Hello Baim Wong\n",
            "Hello Baim Wong\n",
            "Hello Baim Wong\n",
            "Hello Baim Wong\n",
            "Hello Baim Wong\n",
            "Hello Baim Wong\n",
            "Hello Baim Wong\n",
            "Hello Baim Wong\n",
            "Hello Baim Wong\n",
            "Hello Baim Wong\n",
            "Hello Baim Wong\n",
            "Hello Baim Wong\n",
            "Hello Baim Wong\n",
            "Hello Baim Wong\n",
            "Hello Baim Wong\n",
            "Hello Baim Wong\n",
            "Hello Baim Wong\n",
            "Hello Baim Wong\n",
            "Hello Baim Wong\n",
            "Hello Baim Wong\n",
            "Hello Baim Wong\n",
            "Hello Baim Wong\n",
            "Hello Baim Wong\n",
            "Hello Baim Wong\n",
            "Hello Baim Wong\n",
            "Hello Baim Wong\n",
            "Hello Baim Wong\n",
            "Hello Baim Wong\n",
            "Hello Baim Wong\n",
            "Hello Baim Wong\n",
            "Hello Baim Wong\n",
            "Hello Baim Wong\n",
            "Hello Baim Wong\n",
            "Hello Baim Wong\n",
            "Hello Baim Wong\n",
            "Hello Baim Wong\n",
            "Hello Baim Wong\n",
            "Hello Baim Wong\n",
            "Hello Baim Wong\n",
            "Hello Baim Wong\n",
            "Hello Baim Wong\n",
            "Hello Baim Wong\n",
            "Hello Baim Wong\n",
            "Hello Baim Wong\n",
            "Hello Baim Wong\n",
            "Hello Baim Wong\n",
            "Hello Baim Wong\n",
            "Hello Baim Wong\n",
            "Hello Baim Wong\n",
            "Hello Baim Wong\n",
            "Hello Baim Wong\n",
            "Hello Baim Wong\n",
            "Hello Baim Wong\n",
            "Hello Baim Wong\n",
            "Hello Baim Wong\n",
            "Hello Baim Wong\n",
            "Hello Baim Wong\n",
            "Hello Baim Wong\n",
            "Hello Baim Wong\n",
            "Hello Baim Wong\n",
            "Hello Baim Wong\n",
            "Hello Baim Wong\n",
            "Hello Baim Wong\n",
            "Hello Baim Wong\n",
            "Hello Baim Wong\n",
            "Hello Baim Wong\n",
            "Hello Baim Wong\n",
            "Hello Baim Wong\n",
            "Hello Baim Wong\n",
            "Hello Baim Wong\n",
            "Hello Baim Wong\n",
            "Hello Baim Wong\n",
            "Hello Baim Wong\n",
            "Hello Baim Wong\n",
            "Hello Baim Wong\n",
            "Hello Baim Wong\n",
            "Hello Baim Wong\n",
            "Hello Baim Wong\n",
            "Hello Baim Wong\n",
            "Hello Baim Wong\n",
            "Hello Baim Wong\n",
            "Hello Baim Wong\n",
            "Hello Baim Wong\n",
            "Hello Baim Wong\n",
            "Hello Baim Wong\n",
            "Hello Baim Wong\n",
            "Hello Baim Wong\n",
            "Hello Baim Wong\n",
            "Hello Baim Wong\n",
            "Hello Baim Wong\n",
            "Hello Baim Wong\n",
            "Hello Baim Wong\n",
            "Hello Baim Wong\n",
            "Hello Baim Wong\n",
            "Hello Baim Wong\n",
            "Hello Baim Wong\n",
            "Hello Baim Wong\n",
            "Hello Baim Wong\n",
            "Hello Baim Wong\n",
            "Hello Baim Wong\n",
            "Hello Baim Wong\n",
            "Hello Baim Wong\n",
            "Hello Baim Wong\n",
            "Hello Baim Wong\n",
            "Hello Baim Wong\n",
            "Hello Baim Wong\n",
            "Hello Baim Wong\n",
            "Hello Baim Wong\n",
            "Hello Baim Wong\n",
            "Hello Baim Wong\n",
            "Hello Baim Wong\n",
            "Hello Baim Wong\n",
            "Hello Baim Wong\n",
            "Hello Baim Wong\n",
            "Hello Baim Wong\n",
            "Hello Baim Wong\n",
            "Hello Baim Wong\n",
            "Hello Baim Wong\n",
            "Hello Baim Wong\n",
            "Hello Baim Wong\n",
            "Hello Baim Wong\n",
            "Hello Baim Wong\n",
            "Hello Baim Wong\n",
            "Hello Baim Wong\n",
            "Hello Baim Wong\n",
            "Hello Baim Wong\n",
            "Hello Baim Wong\n",
            "Hello Baim Wong\n",
            "Hello Baim Wong\n",
            "Hello Baim Wong\n",
            "Hello Baim Wong\n",
            "Hello Baim Wong\n",
            "Hello Baim Wong\n",
            "Hello Baim Wong\n",
            "Hello Baim Wong\n",
            "Hello Baim Wong\n",
            "Hello Baim Wong\n",
            "Hello Baim Wong\n",
            "Hello Baim Wong\n",
            "Hello Baim Wong\n",
            "Hello Baim Wong\n",
            "Hello Baim Wong\n",
            "Hello Baim Wong\n",
            "Hello Baim Wong\n",
            "Hello Baim Wong\n",
            "Hello Baim Wong\n",
            "Hello Baim Wong\n",
            "Hello Baim Wong\n",
            "Hello Baim Wong\n",
            "Hello Baim Wong\n",
            "Hello Baim Wong\n",
            "Hello Baim Wong\n",
            "Hello Baim Wong\n",
            "Hello Baim Wong\n",
            "Hello Baim Wong\n",
            "Hello Baim Wong\n",
            "Hello Baim Wong\n",
            "Hello Baim Wong\n",
            "Hello Baim Wong\n",
            "Hello Baim Wong\n",
            "Hello Baim Wong\n",
            "Hello Baim Wong\n",
            "Hello Baim Wong\n",
            "Hello Baim Wong\n",
            "Hello Baim Wong\n",
            "Hello Baim Wong\n",
            "Hello Baim Wong\n",
            "Hello Baim Wong\n",
            "Hello Baim Wong\n",
            "Hello Baim Wong\n",
            "Hello Baim Wong\n",
            "Hello Baim Wong\n",
            "Hello Baim Wong\n",
            "Hello Baim Wong\n",
            "Hello Baim Wong\n",
            "Hello Baim Wong\n",
            "Hello Baim Wong\n",
            "Hello Baim Wong\n",
            "Hello Baim Wong\n",
            "Hello Baim Wong\n",
            "Hello Baim Wong\n",
            "Hello Baim Wong\n",
            "Hello Baim Wong\n",
            "Hello Baim Wong\n",
            "Hello Baim Wong\n",
            "Hello Baim Wong\n",
            "Hello Baim Wong\n",
            "Hello Baim Wong\n",
            "Hello Baim Wong\n",
            "Hello Baim Wong\n",
            "Hello Baim Wong\n",
            "Hello Baim Wong\n",
            "Hello Baim Wong\n",
            "Hello Baim Wong\n",
            "Hello Baim Wong\n",
            "Hello Baim Wong\n",
            "Hello Baim Wong\n",
            "Hello Baim Wong\n",
            "Hello Baim Wong\n",
            "Hello Baim Wong\n",
            "Hello Baim Wong\n",
            "Hello Baim Wong\n",
            "Hello Baim Wong\n",
            "Hello Baim Wong\n",
            "Hello Baim Wong\n",
            "Hello Baim Wong\n",
            "Hello Baim Wong\n",
            "Hello Baim Wong\n",
            "Hello Baim Wong\n",
            "Hello Baim Wong\n",
            "Hello Baim Wong\n",
            "Hello Baim Wong\n",
            "Hello Baim Wong\n",
            "Hello Baim Wong\n",
            "Hello Baim Wong\n",
            "Hello Baim Wong\n",
            "Hello Baim Wong\n",
            "Hello Baim Wong\n",
            "Hello Baim Wong\n",
            "Hello Baim Wong\n",
            "Hello Baim Wong\n",
            "Hello Baim Wong\n",
            "Hello Baim Wong\n",
            "Hello Baim Wong\n",
            "Hello Baim Wong\n",
            "Hello Baim Wong\n",
            "Hello Baim Wong\n",
            "Hello Baim Wong\n",
            "Hello Baim Wong\n",
            "Hello Baim Wong\n",
            "Hello Baim Wong\n",
            "Hello Baim Wong\n",
            "Hello Baim Wong\n",
            "Hello Baim Wong\n",
            "Hello Baim Wong\n",
            "Hello Baim Wong\n",
            "Hello Baim Wong\n",
            "Hello Baim Wong\n",
            "Hello Baim Wong\n",
            "Hello Baim Wong\n",
            "Hello Baim Wong\n",
            "Hello Baim Wong\n",
            "Hello Baim Wong\n",
            "Hello Baim Wong\n",
            "Hello Baim Wong\n",
            "Hello Baim Wong\n",
            "Hello Baim Wong\n",
            "Hello Baim Wong\n",
            "Hello Baim Wong\n",
            "Hello Baim Wong\n",
            "Hello Baim Wong\n",
            "Hello Baim Wong\n",
            "Hello Baim Wong\n",
            "Hello Baim Wong\n",
            "Hello Baim Wong\n",
            "Hello Baim Wong\n",
            "Hello Baim Wong\n",
            "Hello Baim Wong\n",
            "Hello Baim Wong\n",
            "Hello Baim Wong\n",
            "Hello Baim Wong\n",
            "Hello Baim Wong\n",
            "Hello Baim Wong\n",
            "Hello Baim Wong\n",
            "Hello Baim Wong\n",
            "Hello Baim Wong\n",
            "Hello Baim Wong\n",
            "Hello Baim Wong\n",
            "Hello Baim Wong\n",
            "Hello Baim Wong\n",
            "Hello Baim Wong\n",
            "Hello Baim Wong\n",
            "Hello Baim Wong\n",
            "Hello Baim Wong\n",
            "Hello Baim Wong\n",
            "Hello Baim Wong\n",
            "Hello Baim Wong\n",
            "Hello Baim Wong\n",
            "Hello Baim Wong\n",
            "Hello Baim Wong\n",
            "Hello Baim Wong\n",
            "Hello Baim Wong\n",
            "Hello Baim Wong\n",
            "Hello Baim Wong\n",
            "Hello Baim Wong\n",
            "Hello Baim Wong\n",
            "Hello Baim Wong\n",
            "Hello Baim Wong\n",
            "Hello Baim Wong\n",
            "Hello Baim Wong\n",
            "Hello Baim Wong\n",
            "Hello Baim Wong\n",
            "Hello Baim Wong\n",
            "Hello Baim Wong\n",
            "Hello Baim Wong\n",
            "Hello Baim Wong\n",
            "Hello Baim Wong\n",
            "Hello Baim Wong\n",
            "Hello Baim Wong\n",
            "Hello Baim Wong\n",
            "Hello Baim Wong\n",
            "Hello Baim Wong\n",
            "Hello Baim Wong\n",
            "Hello Baim Wong\n",
            "Hello Baim Wong\n",
            "Hello Baim Wong\n",
            "Hello Baim Wong\n",
            "Hello Baim Wong\n",
            "Hello Baim Wong\n",
            "Hello Baim Wong\n",
            "Hello Baim Wong\n",
            "Hello Baim Wong\n",
            "Hello Baim Wong\n",
            "Hello Baim Wong\n",
            "Hello Baim Wong\n",
            "Hello Baim Wong\n",
            "Hello Baim Wong\n",
            "Hello Baim Wong\n",
            "Hello Baim Wong\n",
            "Hello Baim Wong\n",
            "Hello Baim Wong\n",
            "Hello Baim Wong\n",
            "Hello Baim Wong\n",
            "Hello Baim Wong\n",
            "Hello Baim Wong\n",
            "Hello Baim Wong\n",
            "Hello Baim Wong\n",
            "Hello Baim Wong\n",
            "Hello Baim Wong\n",
            "Hello Baim Wong\n",
            "Hello Baim Wong\n",
            "Hello Baim Wong\n",
            "Hello Baim Wong\n",
            "Hello Baim Wong\n",
            "Hello Baim Wong\n",
            "Hello Baim Wong\n",
            "Hello Baim Wong\n",
            "Hello Baim Wong\n",
            "Hello Baim Wong\n",
            "Hello Baim Wong\n",
            "Hello Baim Wong\n",
            "Hello Baim Wong\n",
            "Hello Baim Wong\n",
            "Hello Baim Wong\n",
            "Hello Baim Wong\n",
            "Hello Baim Wong\n",
            "Hello Baim Wong\n",
            "Hello Baim Wong\n",
            "Hello Baim Wong\n",
            "Hello Baim Wong\n",
            "Hello Baim Wong\n",
            "Hello Baim Wong\n",
            "Hello Baim Wong\n",
            "Hello Baim Wong\n",
            "Hello Baim Wong\n",
            "Hello Baim Wong\n",
            "Hello Baim Wong\n",
            "Hello Baim Wong\n",
            "Hello Baim Wong\n",
            "Hello Baim Wong\n",
            "Hello Baim Wong\n",
            "Hello Baim Wong\n",
            "Hello Baim Wong\n",
            "Hello Baim Wong\n",
            "Hello Baim Wong\n",
            "Hello Baim Wong\n",
            "Hello Baim Wong\n",
            "Hello Baim Wong\n",
            "Hello Baim Wong\n",
            "Hello Baim Wong\n",
            "Hello Baim Wong\n",
            "Hello Baim Wong\n",
            "Hello Baim Wong\n",
            "Hello Baim Wong\n",
            "Hello Baim Wong\n",
            "Hello Baim Wong\n",
            "Hello Baim Wong\n",
            "Hello Baim Wong\n",
            "Hello Baim Wong\n",
            "Hello Baim Wong\n",
            "Hello Baim Wong\n",
            "Hello Baim Wong\n",
            "Hello Baim Wong\n",
            "Hello Baim Wong\n",
            "Hello Baim Wong\n",
            "Hello Baim Wong\n",
            "Hello Baim Wong\n",
            "Hello Baim Wong\n",
            "Hello Baim Wong\n",
            "Hello Baim Wong\n",
            "Hello Baim Wong\n",
            "Hello Baim Wong\n",
            "Hello Baim Wong\n",
            "Hello Baim Wong\n",
            "Hello Baim Wong\n",
            "Hello Baim Wong\n",
            "Hello Baim Wong\n",
            "Hello Baim Wong\n",
            "Hello Baim Wong\n",
            "Hello Baim Wong\n",
            "Hello Baim Wong\n",
            "Hello Baim Wong\n",
            "Hello Baim Wong\n",
            "Hello Baim Wong\n",
            "Hello Baim Wong\n",
            "Hello Baim Wong\n",
            "Hello Baim Wong\n",
            "Hello Baim Wong\n",
            "Hello Baim Wong\n",
            "Hello Baim Wong\n",
            "Hello Baim Wong\n",
            "Hello Baim Wong\n",
            "Hello Baim Wong\n",
            "Hello Baim Wong\n",
            "Hello Baim Wong\n",
            "Hello Baim Wong\n",
            "Hello Baim Wong\n",
            "Hello Baim Wong\n",
            "Hello Baim Wong\n",
            "Hello Baim Wong\n",
            "Hello Baim Wong\n",
            "Hello Baim Wong\n",
            "Hello Baim Wong\n",
            "Hello Baim Wong\n",
            "Hello Baim Wong\n",
            "Hello Baim Wong\n",
            "Hello Baim Wong\n",
            "Hello Baim Wong\n",
            "Hello Baim Wong\n",
            "Hello Baim Wong\n",
            "Hello Baim Wong\n",
            "Hello Baim Wong\n",
            "Hello Baim Wong\n",
            "Hello Baim Wong\n",
            "Hello Baim Wong\n",
            "Hello Baim Wong\n",
            "Hello Baim Wong\n",
            "Hello Baim Wong\n",
            "Hello Baim Wong\n",
            "Hello Baim Wong\n",
            "Hello Baim Wong\n",
            "Hello Baim Wong\n",
            "Hello Baim Wong\n",
            "Hello Baim Wong\n",
            "Hello Baim Wong\n",
            "Hello Baim Wong\n",
            "Hello Baim Wong\n",
            "Hello Baim Wong\n",
            "Hello Baim Wong\n",
            "Hello Baim Wong\n",
            "Hello Baim Wong\n",
            "Hello Baim Wong\n",
            "Hello Baim Wong\n",
            "Hello Baim Wong\n",
            "Hello Baim Wong\n",
            "Hello Baim Wong\n",
            "Hello Baim Wong\n",
            "Hello Baim Wong\n",
            "Hello Baim Wong\n",
            "Hello Baim Wong\n",
            "Hello Baim Wong\n",
            "Hello Baim Wong\n",
            "Hello Baim Wong\n",
            "Hello Baim Wong\n",
            "Hello Baim Wong\n",
            "Hello Baim Wong\n",
            "Hello Baim Wong\n",
            "Hello Baim Wong\n",
            "Hello Baim Wong\n",
            "Hello Baim Wong\n",
            "Hello Baim Wong\n",
            "Hello Baim Wong\n",
            "Hello Baim Wong\n",
            "Hello Baim Wong\n",
            "Hello Baim Wong\n",
            "Hello Baim Wong\n",
            "Hello Baim Wong\n",
            "Hello Baim Wong\n",
            "Hello Baim Wong\n",
            "Hello Baim Wong\n",
            "Hello Baim Wong\n",
            "Hello Baim Wong\n",
            "Hello Baim Wong\n",
            "Hello Baim Wong\n",
            "Hello Baim Wong\n",
            "Hello Baim Wong\n",
            "Hello Baim Wong\n",
            "Hello Baim Wong\n",
            "Hello Baim Wong\n",
            "Hello Baim Wong\n",
            "Hello Baim Wong\n",
            "Hello Baim Wong\n",
            "Hello Baim Wong\n",
            "Hello Baim Wong\n",
            "Hello Baim Wong\n",
            "Hello Baim Wong\n",
            "Hello Baim Wong\n",
            "Hello Baim Wong\n",
            "Hello Baim Wong\n",
            "Hello Baim Wong\n",
            "Hello Baim Wong\n",
            "Hello Baim Wong\n",
            "Hello Baim Wong\n",
            "Hello Baim Wong\n",
            "Hello Baim Wong\n",
            "Hello Baim Wong\n",
            "Hello Baim Wong\n",
            "Hello Baim Wong\n",
            "Hello Baim Wong\n",
            "Hello Baim Wong\n",
            "Hello Baim Wong\n",
            "Hello Baim Wong\n",
            "Hello Baim Wong\n",
            "Hello Baim Wong\n",
            "Hello Baim Wong\n",
            "Hello Baim Wong\n",
            "Hello Baim Wong\n",
            "Hello Baim Wong\n",
            "Hello Baim Wong\n",
            "Hello Baim Wong\n",
            "Hello Baim Wong\n",
            "Hello Baim Wong\n",
            "Hello Baim Wong\n",
            "Hello Baim Wong\n",
            "Hello Baim Wong\n",
            "Hello Baim Wong\n",
            "Hello Baim Wong\n",
            "Hello Baim Wong\n",
            "Hello Baim Wong\n",
            "Hello Baim Wong\n",
            "Hello Baim Wong\n",
            "Hello Baim Wong\n",
            "Hello Baim Wong\n",
            "Hello Baim Wong\n",
            "Hello Baim Wong\n",
            "Hello Baim Wong\n",
            "Hello Baim Wong\n",
            "Hello Baim Wong\n",
            "Hello Baim Wong\n",
            "Hello Baim Wong\n",
            "Hello Baim Wong\n",
            "Hello Baim Wong\n",
            "Hello Baim Wong\n",
            "Hello Baim Wong\n",
            "Hello Baim Wong\n",
            "Hello Baim Wong\n",
            "Hello Baim Wong\n",
            "Hello Baim Wong\n",
            "Hello Baim Wong\n",
            "Hello Baim Wong\n",
            "Hello Baim Wong\n",
            "Hello Baim Wong\n",
            "Hello Baim Wong\n",
            "Hello Baim Wong\n",
            "Hello Baim Wong\n",
            "Hello Baim Wong\n",
            "Hello Baim Wong\n",
            "Hello Baim Wong\n",
            "Hello Baim Wong\n",
            "Hello Baim Wong\n",
            "Hello Baim Wong\n",
            "Hello Baim Wong\n",
            "Hello Baim Wong\n",
            "Hello Baim Wong\n",
            "Hello Baim Wong\n",
            "Hello Baim Wong\n",
            "Hello Baim Wong\n",
            "Hello Baim Wong\n",
            "Hello Baim Wong\n",
            "Hello Baim Wong\n",
            "Hello Baim Wong\n",
            "Hello Baim Wong\n",
            "Hello Baim Wong\n",
            "Hello Baim Wong\n",
            "Hello Baim Wong\n",
            "Hello Baim Wong\n",
            "Hello Baim Wong\n",
            "Hello Baim Wong\n",
            "Hello Baim Wong\n",
            "Hello Baim Wong\n",
            "Hello Baim Wong\n",
            "Hello Baim Wong\n",
            "Hello Baim Wong\n",
            "Hello Baim Wong\n",
            "Hello Baim Wong\n",
            "Hello Baim Wong\n",
            "Hello Baim Wong\n",
            "Hello Baim Wong\n",
            "Hello Baim Wong\n",
            "Hello Baim Wong\n",
            "Hello Baim Wong\n",
            "Hello Baim Wong\n",
            "Hello Baim Wong\n",
            "Hello Baim Wong\n",
            "Hello Baim Wong\n",
            "Hello Baim Wong\n",
            "Hello Baim Wong\n",
            "Hello Baim Wong\n",
            "Hello Baim Wong\n",
            "Hello Baim Wong\n",
            "Hello Baim Wong\n",
            "Hello Baim Wong\n",
            "Hello Baim Wong\n",
            "Hello Baim Wong\n",
            "Hello Baim Wong\n",
            "Hello Baim Wong\n",
            "Hello Baim Wong\n",
            "Hello Baim Wong\n",
            "Hello Baim Wong\n",
            "Hello Baim Wong\n",
            "Hello Baim Wong\n",
            "Hello Baim Wong\n",
            "Hello Baim Wong\n",
            "Hello Baim Wong\n",
            "Hello Baim Wong\n",
            "Hello Baim Wong\n",
            "Hello Baim Wong\n",
            "Hello Baim Wong\n",
            "Hello Baim Wong\n",
            "Hello Baim Wong\n",
            "Hello Baim Wong\n",
            "Hello Baim Wong\n",
            "Hello Baim Wong\n",
            "Hello Baim Wong\n",
            "Hello Baim Wong\n",
            "Hello Baim Wong\n",
            "Hello Baim Wong\n",
            "Hello Baim Wong\n",
            "Hello Baim Wong\n",
            "Hello Baim Wong\n",
            "Hello Baim Wong\n",
            "Hello Baim Wong\n",
            "Hello Baim Wong\n",
            "Hello Baim Wong\n",
            "Hello Baim Wong\n",
            "Hello Baim Wong\n",
            "Hello Baim Wong\n",
            "Hello Baim Wong\n",
            "Hello Baim Wong\n",
            "Hello Baim Wong\n",
            "Hello Baim Wong\n",
            "Hello Baim Wong\n",
            "Hello Baim Wong\n",
            "Hello Baim Wong\n",
            "Hello Baim Wong\n",
            "Hello Baim Wong\n",
            "Hello Baim Wong\n",
            "Hello Baim Wong\n",
            "Hello Baim Wong\n",
            "Hello Baim Wong\n",
            "Hello Baim Wong\n",
            "Hello Baim Wong\n",
            "Hello Baim Wong\n",
            "Hello Baim Wong\n",
            "Hello Baim Wong\n",
            "Hello Baim Wong\n",
            "Hello Baim Wong\n",
            "Hello Baim Wong\n",
            "Hello Baim Wong\n",
            "Hello Baim Wong\n",
            "Hello Baim Wong\n",
            "Hello Baim Wong\n",
            "Hello Baim Wong\n",
            "Hello Baim Wong\n",
            "Hello Baim Wong\n",
            "Hello Baim Wong\n",
            "Hello Baim Wong\n",
            "Hello Baim Wong\n",
            "Hello Baim Wong\n",
            "Hello Baim Wong\n",
            "Hello Baim Wong\n",
            "Hello Baim Wong\n",
            "Hello Baim Wong\n",
            "Hello Baim Wong\n",
            "Hello Baim Wong\n",
            "Hello Baim Wong\n",
            "Hello Baim Wong\n",
            "Hello Baim Wong\n",
            "Hello Baim Wong\n",
            "Hello Baim Wong\n",
            "Hello Baim Wong\n",
            "Hello Baim Wong\n",
            "Hello Baim Wong\n",
            "Hello Baim Wong\n",
            "Hello Baim Wong\n",
            "Hello Baim Wong\n",
            "Hello Baim Wong\n",
            "Hello Baim Wong\n",
            "Hello Baim Wong\n",
            "Hello Baim Wong\n",
            "Hello Baim Wong\n",
            "Hello Baim Wong\n",
            "Hello Baim Wong\n",
            "Hello Baim Wong\n",
            "Hello Baim Wong\n",
            "Hello Baim Wong\n",
            "Hello Baim Wong\n",
            "Hello Baim Wong\n",
            "Hello Baim Wong\n",
            "Hello Baim Wong\n",
            "Hello Baim Wong\n",
            "Hello Baim Wong\n",
            "Hello Baim Wong\n",
            "Hello Baim Wong\n",
            "Hello Baim Wong\n",
            "Hello Baim Wong\n",
            "Hello Baim Wong\n",
            "Hello Baim Wong\n",
            "Hello Baim Wong\n",
            "Hello Baim Wong\n",
            "Hello Baim Wong\n",
            "Hello Baim Wong\n",
            "Hello Baim Wong\n",
            "Hello Baim Wong\n",
            "Hello Baim Wong\n",
            "Hello Baim Wong\n",
            "Hello Baim Wong\n",
            "Hello Baim Wong\n",
            "Hello Baim Wong\n",
            "Hello Baim Wong\n",
            "Hello Baim Wong\n",
            "Hello Baim Wong\n",
            "Hello Baim Wong\n",
            "Hello Baim Wong\n",
            "Hello Baim Wong\n",
            "Hello Baim Wong\n",
            "Hello Baim Wong\n",
            "Hello Baim Wong\n",
            "Hello Baim Wong\n",
            "Hello Baim Wong\n",
            "Hello Baim Wong\n",
            "Hello Baim Wong\n",
            "Hello Baim Wong\n",
            "Hello Baim Wong\n",
            "Hello Baim Wong\n",
            "Hello Baim Wong\n",
            "Hello Baim Wong\n",
            "Hello Baim Wong\n",
            "Hello Baim Wong\n",
            "Hello Baim Wong\n",
            "Hello Baim Wong\n",
            "Hello Baim Wong\n",
            "Hello Baim Wong\n",
            "Hello Baim Wong\n",
            "Hello Baim Wong\n",
            "Hello Baim Wong\n",
            "Hello Baim Wong\n",
            "Hello Baim Wong\n",
            "Hello Baim Wong\n",
            "Hello Baim Wong\n",
            "Hello Baim Wong\n",
            "Hello Baim Wong\n",
            "Hello Baim Wong\n",
            "Hello Baim Wong\n",
            "Hello Baim Wong\n",
            "Hello Baim Wong\n",
            "Hello Baim Wong\n",
            "Hello Baim Wong\n",
            "Hello Baim Wong\n",
            "Hello Baim Wong\n",
            "Hello Baim Wong\n",
            "Hello Baim Wong\n",
            "Hello Baim Wong\n",
            "Hello Baim Wong\n",
            "Hello Baim Wong\n",
            "Hello Baim Wong\n",
            "Hello Baim Wong\n",
            "Hello Baim Wong\n",
            "Hello Baim Wong\n",
            "Hello Baim Wong\n",
            "Hello Baim Wong\n",
            "Hello Baim Wong\n",
            "Hello Baim Wong\n",
            "Hello Baim Wong\n",
            "Hello Baim Wong\n",
            "Hello Baim Wong\n",
            "Hello Baim Wong\n",
            "Hello Baim Wong\n",
            "Hello Baim Wong\n",
            "Hello Baim Wong\n",
            "Hello Baim Wong\n",
            "Hello Baim Wong\n",
            "Hello Baim Wong\n",
            "Hello Baim Wong\n",
            "Hello Baim Wong\n",
            "Hello Baim Wong\n",
            "Hello Baim Wong\n",
            "Hello Baim Wong\n",
            "Hello Baim Wong\n",
            "Hello Baim Wong\n",
            "Hello Baim Wong\n",
            "Hello Baim Wong\n",
            "Hello Baim Wong\n",
            "Hello Baim Wong\n",
            "Hello Baim Wong\n",
            "Hello Baim Wong\n",
            "Hello Baim Wong\n",
            "Hello Baim Wong\n",
            "Hello Baim Wong\n",
            "Hello Baim Wong\n",
            "Hello Baim Wong\n",
            "Hello Baim Wong\n",
            "Hello Baim Wong\n",
            "Hello Baim Wong\n",
            "Hello Baim Wong\n",
            "Hello Baim Wong\n",
            "Hello Baim Wong\n",
            "Hello Baim Wong\n",
            "Hello Baim Wong\n",
            "Hello Baim Wong\n",
            "Hello Baim Wong\n",
            "Hello Baim Wong\n",
            "Hello Baim Wong\n",
            "Hello Baim Wong\n",
            "Hello Baim Wong\n",
            "Hello Baim Wong\n",
            "Hello Baim Wong\n",
            "Hello Baim Wong\n",
            "Hello Baim Wong\n",
            "Hello Baim Wong\n",
            "Hello Baim Wong\n",
            "Hello Baim Wong\n",
            "Hello Baim Wong\n",
            "Hello Baim Wong\n",
            "Hello Baim Wong\n",
            "Hello Baim Wong\n",
            "Hello Baim Wong\n",
            "Hello Baim Wong\n",
            "Hello Baim Wong\n",
            "Hello Baim Wong\n",
            "Hello Baim Wong\n",
            "Hello Baim Wong\n",
            "Hello Baim Wong\n",
            "Hello Baim Wong\n",
            "Hello Baim Wong\n",
            "Hello Baim Wong\n",
            "Hello Baim Wong\n",
            "Hello Baim Wong\n",
            "Hello Baim Wong\n",
            "Hello Baim Wong\n",
            "Hello Baim Wong\n",
            "Hello Baim Wong\n",
            "Hello Baim Wong\n",
            "Hello Baim Wong\n",
            "Hello Baim Wong\n",
            "Hello Baim Wong\n",
            "Hello Baim Wong\n",
            "Hello Baim Wong\n",
            "Hello Baim Wong\n",
            "Hello Baim Wong\n",
            "Hello Baim Wong\n",
            "Hello Baim Wong\n",
            "Hello Baim Wong\n",
            "Hello Baim Wong\n",
            "Hello Baim Wong\n",
            "Hello Baim Wong\n",
            "Hello Baim Wong\n",
            "Hello Baim Wong\n",
            "Hello Baim Wong\n",
            "Hello Baim Wong\n",
            "Hello Baim Wong\n",
            "Hello Baim Wong\n",
            "Hello Baim Wong\n",
            "Hello Baim Wong\n",
            "Hello Baim Wong\n",
            "Hello Baim Wong\n",
            "Hello Baim Wong\n",
            "Hello Baim Wong\n",
            "Hello Baim Wong\n",
            "Hello Baim Wong\n",
            "Hello Baim Wong\n",
            "Hello Baim Wong\n",
            "Hello Baim Wong\n",
            "Hello Baim Wong\n",
            "Hello Baim Wong\n",
            "Hello Baim Wong\n",
            "Hello Baim Wong\n",
            "Hello Baim Wong\n",
            "Hello Baim Wong\n",
            "Hello Baim Wong\n",
            "Hello Baim Wong\n",
            "Hello Baim Wong\n",
            "Hello Baim Wong\n",
            "Hello Baim Wong\n",
            "Hello Baim Wong\n",
            "Hello Baim Wong\n",
            "Hello Baim Wong\n",
            "Hello Baim Wong\n",
            "Hello Baim Wong\n",
            "Hello Baim Wong\n",
            "Hello Baim Wong\n",
            "Hello Baim Wong\n",
            "Hello Baim Wong\n",
            "Hello Baim Wong\n",
            "Hello Baim Wong\n",
            "Hello Baim Wong\n",
            "Hello Baim Wong\n",
            "Hello Baim Wong\n",
            "Hello Baim Wong\n",
            "Hello Baim Wong\n",
            "Hello Baim Wong\n",
            "Hello Baim Wong\n",
            "Hello Baim Wong\n",
            "Hello Baim Wong\n",
            "Hello Baim Wong\n",
            "Hello Baim Wong\n"
          ]
        }
      ]
    },
    {
      "cell_type": "code",
      "source": [
        "for i in range (2, 5, 1):\n",
        "  print(i)"
      ],
      "metadata": {
        "id": "liezObKsai6v",
        "outputId": "c7e1b9d1-614f-4ed4-d41d-61ef364b84d4",
        "colab": {
          "base_uri": "https://localhost:8080/"
        }
      },
      "execution_count": 8,
      "outputs": [
        {
          "output_type": "stream",
          "name": "stdout",
          "text": [
            "2\n",
            "3\n",
            "4\n"
          ]
        }
      ]
    },
    {
      "cell_type": "code",
      "source": [
        "for i in range (7, 2, -1):\n",
        "  print(i)"
      ],
      "metadata": {
        "id": "p_GLhTzkawC8",
        "outputId": "4ba84fbe-37a0-4de7-ff30-b4c3a72c4749",
        "colab": {
          "base_uri": "https://localhost:8080/"
        }
      },
      "execution_count": 9,
      "outputs": [
        {
          "output_type": "stream",
          "name": "stdout",
          "text": [
            "7\n",
            "6\n",
            "5\n",
            "4\n",
            "3\n"
          ]
        }
      ]
    },
    {
      "cell_type": "code",
      "source": [
        "a = int( input( \"Masukkan angka antara 1 hingga 10:  \"))\n",
        "b = int( input( \"Masukkan angka antara 1 hingga 10:  \"))\n",
        "\n",
        "for i in range(a,b+1):\n",
        "  print(i)"
      ],
      "metadata": {
        "id": "SoYTMy2Sa60p",
        "outputId": "b376917d-ea78-4123-dd3d-f74e95cd0637",
        "colab": {
          "base_uri": "https://localhost:8080/"
        }
      },
      "execution_count": 11,
      "outputs": [
        {
          "output_type": "stream",
          "name": "stdout",
          "text": [
            "Masukkan angka antara 1 hingga 10:  3\n",
            "Masukkan angka antara 1 hingga 10:  9\n",
            "3\n",
            "4\n",
            "5\n",
            "6\n",
            "7\n",
            "8\n",
            "9\n"
          ]
        }
      ]
    },
    {
      "cell_type": "markdown",
      "source": [
        "Perulangan While - Loop"
      ],
      "metadata": {
        "id": "rHvC7utAa-d_"
      }
    },
    {
      "cell_type": "code",
      "source": [
        "counter = 2\n",
        "while counter <= 7:\n",
        "  print(counter)\n",
        "  counter += 1"
      ],
      "metadata": {
        "id": "6rwe702za_9i",
        "outputId": "e7d7c7dd-8b53-466c-fdd5-9b777981ce66",
        "colab": {
          "base_uri": "https://localhost:8080/"
        }
      },
      "execution_count": 13,
      "outputs": [
        {
          "output_type": "stream",
          "name": "stdout",
          "text": [
            "2\n",
            "3\n",
            "4\n",
            "5\n",
            "6\n",
            "7\n"
          ]
        }
      ]
    },
    {
      "cell_type": "code",
      "source": [
        "a = int( input())\n",
        "b = int( input())\n",
        "\n",
        "i = 10\n",
        "while i<=20:\n",
        "  print(i)\n",
        "  i += 1"
      ],
      "metadata": {
        "id": "G3PLJjvPbM_K",
        "outputId": "3d904dae-2f63-4c5e-80b1-a82d4272b298",
        "colab": {
          "base_uri": "https://localhost:8080/"
        }
      },
      "execution_count": 14,
      "outputs": [
        {
          "output_type": "stream",
          "name": "stdout",
          "text": [
            "12\n",
            "18\n",
            "10\n",
            "11\n",
            "12\n",
            "13\n",
            "14\n",
            "15\n",
            "16\n",
            "17\n",
            "18\n",
            "19\n",
            "20\n"
          ]
        }
      ]
    },
    {
      "cell_type": "markdown",
      "source": [
        "Perulangan: For Nested Loop"
      ],
      "metadata": {
        "id": "hdJyqlT6bWPb"
      }
    },
    {
      "cell_type": "code",
      "source": [
        "n = int(input())\n",
        "\n",
        "for i in range(n):\n",
        "  for j in range(n):\n",
        "    print(\"*\", end=\"\")"
      ],
      "metadata": {
        "id": "x634XdD7bbsk",
        "outputId": "912ee6b7-4966-4bdc-bba6-54eec40cdc04",
        "colab": {
          "base_uri": "https://localhost:8080/"
        }
      },
      "execution_count": 15,
      "outputs": [
        {
          "output_type": "stream",
          "name": "stdout",
          "text": [
            "10\n",
            "****************************************************************************************************"
          ]
        }
      ]
    },
    {
      "cell_type": "markdown",
      "source": [
        "Pembahasan Soal"
      ],
      "metadata": {
        "id": "IzUoMbJabg2u"
      }
    },
    {
      "cell_type": "code",
      "source": [
        "#Kelipatan Terdekat\n",
        "\n",
        "N = int(input(\"Masukkan N : \"))\n",
        "\n",
        "i = N + 1\n",
        "while i % 5 != 0:\n",
        "  i += 1\n",
        "\n",
        "print(\"Output: \", i)"
      ],
      "metadata": {
        "id": "rHnnIWWabqRs",
        "outputId": "ae67dd09-63c6-4890-a1d1-0aad2d3d0615",
        "colab": {
          "base_uri": "https://localhost:8080/"
        }
      },
      "execution_count": 16,
      "outputs": [
        {
          "output_type": "stream",
          "name": "stdout",
          "text": [
            "Masukkan N : 5\n",
            "Output:  10\n"
          ]
        }
      ]
    },
    {
      "cell_type": "code",
      "source": [
        "#Segitiga Bintang\n",
        "\n",
        "N = int(input(\"Masukkan N : \"))\n",
        "\n",
        "for i in range (1, N+1):\n",
        "  print(\"*\" * i)"
      ],
      "metadata": {
        "id": "J_OhzUWgbsbs",
        "outputId": "6cd7e0bc-ad2a-4d59-e39f-718e7a3f187c",
        "colab": {
          "base_uri": "https://localhost:8080/"
        }
      },
      "execution_count": 17,
      "outputs": [
        {
          "output_type": "stream",
          "name": "stdout",
          "text": [
            "Masukkan N : 5\n",
            "*\n",
            "**\n",
            "***\n",
            "****\n",
            "*****\n"
          ]
        }
      ]
    },
    {
      "cell_type": "code",
      "source": [
        "# Urutan Kebawah\n",
        "\n",
        "N = int(input(\"Masukkan N : \"))\n",
        "\n",
        "for i in range (N, 0, -1):\n",
        "  for i in range (1, i+1):\n",
        "    print(i, end=\"\")\n",
        "  print()"
      ],
      "metadata": {
        "id": "Hg3TPDEKbxHp",
        "outputId": "b4072f83-f717-48f1-b865-b3eed747314a",
        "colab": {
          "base_uri": "https://localhost:8080/"
        }
      },
      "execution_count": 18,
      "outputs": [
        {
          "output_type": "stream",
          "name": "stdout",
          "text": [
            "Masukkan N : 6\n",
            "123456\n",
            "12345\n",
            "1234\n",
            "123\n",
            "12\n",
            "1\n"
          ]
        }
      ]
    },
    {
      "cell_type": "code",
      "source": [
        "#PIRAMIDA ANGKA\n",
        "\n",
        "N = int(input(\"Masukkan nilai N: \"))\n",
        "\n",
        "# Cetak pola piramida angka\n",
        "for i in range(1, N+1):\n",
        "    print(' ' * (N-i) + ''.join(str(x) for x in range(1, 2*i)))"
      ],
      "metadata": {
        "id": "g5enYpPrWpsC",
        "outputId": "54b1962d-a5af-4c11-8bd9-12f1278a3387",
        "colab": {
          "base_uri": "https://localhost:8080/"
        }
      },
      "execution_count": 22,
      "outputs": [
        {
          "output_type": "stream",
          "name": "stdout",
          "text": [
            "Masukkan nilai N: 6\n",
            "     1\n",
            "    123\n",
            "   12345\n",
            "  1234567\n",
            " 123456789\n",
            "1234567891011\n"
          ]
        }
      ]
    },
    {
      "cell_type": "code",
      "source": [
        "# Kelipatan 2&3\n",
        "\n",
        "N = int(input(\"Masukkan N : \"))\n",
        "\n",
        "#Loop dari 1 hingga N\n",
        "for i in range (1, N+1):\n",
        "  if i % 2 == 0 and i % 3 == 0:\n",
        "    print(\"DuaTiga\", end=\" \")\n",
        "  elif i % 2 == 0:\n",
        "    print(\"Dua\", end=\" \")\n",
        "  elif i % 3 == 0:\n",
        "    print(\"Tiga\", end=\" \")\n",
        "  else:\n",
        "    print(i, end=\"\")\n",
        "print()"
      ],
      "metadata": {
        "id": "eFahAdG-b4PN",
        "outputId": "32210479-e62a-4fd2-bd0c-c4f3d746864f",
        "colab": {
          "base_uri": "https://localhost:8080/"
        }
      },
      "execution_count": 21,
      "outputs": [
        {
          "output_type": "stream",
          "name": "stdout",
          "text": [
            "Masukkan N : 10\n",
            "1Dua Tiga Dua 5DuaTiga 7Dua Tiga Dua \n"
          ]
        }
      ]
    },
    {
      "cell_type": "markdown",
      "source": [
        "* Interpretasi coding:\n",
        "\n",
        "* Interpretasi Hasil:\n",
        "\n",
        "   \n",
        "\n"
      ],
      "metadata": {
        "id": "h8Muq6UccdWL"
      }
    },
    {
      "cell_type": "markdown",
      "source": [
        "#🧠 LATIHAN SOAL DI KELAS ⏱️"
      ],
      "metadata": {
        "id": "KEGjH0_P9D1-"
      }
    },
    {
      "cell_type": "markdown",
      "source": [
        "Problem (1) Membuat program menerima bilangan N dan menuliskan bilangan 10^x terkecil yang lebih dari N"
      ],
      "metadata": {
        "id": "nt7-fY7s9PgC"
      }
    },
    {
      "cell_type": "code",
      "source": [
        "N = int(input(\"Masukkan N : \"))\n",
        "pangkat = 0\n",
        "\n",
        "while 10 ** pangkat <= N:\n",
        "  pangkat += 1\n",
        "\n",
        "print(\"Output: \", 10 ** pangkat)"
      ],
      "metadata": {
        "id": "h7si6sBj9Mr4",
        "outputId": "ced68b2e-f276-4cc6-a93b-f69bf24dbc8a",
        "colab": {
          "base_uri": "https://localhost:8080/"
        }
      },
      "execution_count": null,
      "outputs": [
        {
          "output_type": "stream",
          "name": "stdout",
          "text": [
            "Masukkan N : 1234\n",
            "Output:  10000\n"
          ]
        }
      ]
    },
    {
      "cell_type": "markdown",
      "source": [
        " Interpretasi coding:\n",
        "1. Input program diatas untuk memasukkan nilai N\n",
        "2. variabel \"pangkat\" diinisialisasi dengan 0\n",
        "3. perulangan menggunakan while dikarenakan kondisi yang tidak pasti. artinya\n",
        "   program tersebut tidak tahu sebelumnya berapa kali perulangan harus dilakukan\n",
        "4. Perulangan akan terus berjalan selama hasil dari 10 pangkat masih lebih\n",
        "  kecil dari N. ketika sudah melewati atau sama dengan N, perulangan akan berhenti.\n",
        "\n",
        "  \n",
        " Interpretasi Hasil:\n",
        "* Masukkan N : 5\n",
        "* output : 10\n",
        "* Masukkan N : 1234\n",
        "* output : 10000"
      ],
      "metadata": {
        "id": "Wou8YKfJ9lvY"
      }
    },
    {
      "cell_type": "markdown",
      "source": [
        "Problem (2) Membuat program menerima bilangan N dan membuat pola segitiga angka dengan dasar N."
      ],
      "metadata": {
        "id": "Eucg6DUK9fgA"
      }
    },
    {
      "cell_type": "code",
      "source": [
        "N = int(input(\"Masukkan N: \"))\n",
        "\n",
        "for i in range(1, N + 1): #Loop luar baris\n",
        "    for j in range(1, i + 1): #Loop dalam baris\n",
        "        print(j, end=\" \")\n",
        "    print()"
      ],
      "metadata": {
        "id": "9uWMEZpP9hlB"
      },
      "execution_count": null,
      "outputs": []
    },
    {
      "cell_type": "markdown",
      "source": [
        "- Interpretasi coding:\n",
        "1. Pada program ini, kita menggunakan nested loop karena pada output yang menghasilkan segitiga angka memiliki jumlah angka yang bertambah 1.\n",
        "2. Nested loop dapat mengatur jumlah pengulangan pada setiap baris\n",
        "3. Loop luar baris berguna untuk mengulang baris 1 hingga baris N\n",
        "4. Loop dalam baris mengulang dari kolom 1 hingga kolom i\n",
        "4. print (j, end=\"\") berguna untuk mencetak angka j tanpa pindah baris\n",
        "5. print() berguna untuk pindah ke baris baru setelah setiap baris selesai dicetak\n",
        "- Interpretasi Hasil:\n",
        "* 1\n",
        "* 1 2\n",
        "* 1 2 3\n",
        "* 1 2 3 4\n",
        "* 1 2 3 4 5\n",
        "\n",
        "\n",
        "\n",
        "\n",
        "\n"
      ],
      "metadata": {
        "id": "fM9Fo97_93Ni"
      }
    },
    {
      "cell_type": "markdown",
      "source": [
        "Program (3) Kalkulator Sederhana"
      ],
      "metadata": {
        "id": "7v_UYEWJhYmu"
      }
    },
    {
      "cell_type": "code",
      "source": [
        "# Kelipatan 10 terkecil\n",
        "def kelipatan_10_terkecil(N):\n",
        "    # Mencari kelipatan 10 terkecil yang lebih besar dari N\n",
        "    kelipatan = 10\n",
        "    while kelipatan <= N:\n",
        "        kelipatan += 10\n",
        "    return kelipatan\n",
        "\n",
        "# Menerima input dari user\n",
        "N = int(input(\"Masukan N: \"))\n",
        "\n",
        "# tampilkan hasil\n",
        "hasil = kelipatan_10_terkecil(N)\n",
        "print(hasil)\n",
        ""
      ],
      "metadata": {
        "id": "cGN6YanrheR2",
        "outputId": "9816f152-ef31-4d73-dd7f-fadc186ddfbf",
        "colab": {
          "base_uri": "https://localhost:8080/"
        }
      },
      "execution_count": 24,
      "outputs": [
        {
          "output_type": "stream",
          "name": "stdout",
          "text": [
            "Masukan N: 5\n",
            "10\n"
          ]
        }
      ]
    },
    {
      "cell_type": "markdown",
      "source": [
        "**Interpretasi coding**: Di baris pertama, terdapat sebuah fungsi 'kelipatan10_terkecil' di definisikan dengan satu parameter, yaitu 'N'.\n",
        "\n",
        "'kelipatan = 10' variabel 'kelipatan' diinisialisasi dengan nilai 10, yang merupakan kelipatan 10 pertama.\n",
        "\n",
        "kemudian terdapat loop: while kelipatan <= N: kelipatan += 10. italicized text loop 'while' ini akan terus berjalan selama nilai 'kelipatan' *kurang dari atau sama dengan *'N' di dalam loop, nilai 'kelipatan' ditambah 10 pada setiap iterasi.\n",
        "\n",
        "'return kelipatan' setelah loop selesai fungsi ini mengembalikan nilai 'kelipatan', yaitu kelipatan 10 terkecil yang lebih besar dari 'N'.\n",
        "\n",
        "hasil dari fungsi 'kelipatan_10_terkecil' *disimpan dalam variabel *'hasil', kemudian dicetak ke layar.\n",
        "\n",
        "**Interpretasi Hasil**: Fungsi 'kelipatan_10_terkecil(5)' kemudian dipanggil.\n",
        "\n",
        "Proses perhitungan di dalam fungsi adalah sebagai berikut:\n",
        "\n",
        "Inisialisasi kelipatan dengan nilai 10. Memeriksa apakah kelipatan (10) kurang dari atau sama dengan N (5). Karena kondisi ini tidak terpenuhi, loop tidak dijalankan. Setelah loop selesai (yang tidak dijalankan dalam kasus ini), fungsi mengembalikan nilai kelipatan, yaitu 10. Sehingga, output akhir menunjukkan bahwa kelipatan 10 terkecil yang lebih besar dari 5 adalah 10, dan itulah yang dicetak sebagai hasil."
      ],
      "metadata": {
        "id": "9rqQLfphYDp-"
      }
    },
    {
      "cell_type": "markdown",
      "source": [
        "Program (4) Bilangan Ganjil"
      ],
      "metadata": {
        "id": "c6EKSefmhtmr"
      }
    },
    {
      "cell_type": "code",
      "source": [
        "awal = int(input(\"Masukkan angka awal: \"))\n",
        "akhir = int(input(\"Masukkan angka akhir: \"))\n",
        "x = []\n",
        "y = []\n",
        "\n",
        "for i in range (awal, akhir+1):\n",
        "  if i % 2 == 0:\n",
        "    x.append(i)\n",
        "  else:\n",
        "    y.append(i)\n",
        "\n",
        "print(\"Bilangan Ganjil: \", y)\n",
        "print(\"Bilangan Genap: \", x)"
      ],
      "metadata": {
        "id": "AIptwp1Shx7z",
        "outputId": "102b2fea-db2a-4650-f886-1a3d2e1b274c",
        "colab": {
          "base_uri": "https://localhost:8080/"
        }
      },
      "execution_count": 25,
      "outputs": [
        {
          "output_type": "stream",
          "name": "stdout",
          "text": [
            "Masukkan angka awal: 5\n",
            "Masukkan angka akhir: 6\n",
            "Bilangan Ganjil:  [5]\n",
            "Bilangan Genap:  [6]\n"
          ]
        }
      ]
    },
    {
      "cell_type": "markdown",
      "source": [
        "**Interpretasi coding:**\n",
        "\n",
        "fungsi 'segitiga_angka' di definisikan dengan satu parameter, yaitu 'n'.\n",
        "\n",
        "pada baris ketiga terdapat loop 'for i in range(1, n + 1)' loop ini mengulang dari 1 hingga n, di mana setiap iterasi merepresentasikan satu baris dari segitiga angka\n",
        "\n",
        "kemudian terdapat loop for j in range(1, i+1): print(j, end='') loop ini mengulang dari 1 hingga 'i', di mana 'i' adalah nomor baris saat ini. pada setiap irerasi, angka 'j' di cetak tanpa berpindah ke baris baru (karena penggunaan 'end=''), sehingga semua angka pada baris yang sama akan di cetak bersebelahan.\n",
        "\n",
        "'segitiga_angka' fungsi tsb dipanggil dengan argumen 'n' yang telah dimasukkan oleh pengguna\n",
        "\n",
        " **Interpretasi Hasil:**\n",
        "\n",
        "Fungsi segitiga_angka(5) kemudian dipanggil dan menghasilkan pola segitiga angka sebagai berikut: Baris pertama (i=1): Mencetak angka 1. Baris kedua (i=2): Mencetak angka 1 dan 2. Baris ketiga (i=3): Mencetak angka 1, 2, dan 3. Baris keempat (i=4): Mencetak angka 1, 2, 3, dan 4. Baris kelima (i=5): Mencetak angka 1, 2, 3, 4, dan 5."
      ],
      "metadata": {
        "id": "16MQElt5YrHx"
      }
    },
    {
      "cell_type": "markdown",
      "source": [
        "#🏆 POST TEST 🎯"
      ],
      "metadata": {
        "id": "J_75vTSXKFGE"
      }
    },
    {
      "cell_type": "markdown",
      "source": [
        "Problem (1) membuat program jika \"x\" kelipatan dari a maka keluarkan \"Siap\". Jika \"x\" kelipatan dari b maka keluarkan \"bang\". jika \"x\" kelipatan c maka keluarkan \"jago\". jika \"x\" bukan merupakan kelipatan seluruhnya \"else\", maka tampilkan angka aja."
      ],
      "metadata": {
        "id": "twhHfrqiKSfV"
      }
    },
    {
      "cell_type": "code",
      "source": [
        "N = int(input(\"Masukkan N : \"))\n",
        "a = int(input(\"Masukkan A : \"))\n",
        "b = int(input(\"Masukkan B : \"))\n",
        "c = int(input(\"Masukkan C : \"))\n",
        "\n",
        "for x in range (1, N+1):\n",
        "  if x % a == 0 and x % b == 0 and x % c == 0:\n",
        "    print(\"SiapBangJago\", end=\" \")\n",
        "  elif x % a == 0 and x % b == 0:\n",
        "    print(\"SiapBang\", end=\" \")\n",
        "  elif x % a == 0 and x % c == 0:\n",
        "    print(\"SiapJago\", end=\" \")\n",
        "  elif x % b == 0 and x % c == 0:\n",
        "    print(\"BangJago\", end=\" \")\n",
        "  elif x % a == 0:\n",
        "    print(\"Siap\", end=\" \")\n",
        "  elif x % b == 0:\n",
        "    print(\"Bang\", end=\" \")\n",
        "  elif x % c == 0:\n",
        "    print(\"Jago\", end=\" \")\n",
        "  else:\n",
        "    print(x, end=\" \")\n",
        "print()"
      ],
      "metadata": {
        "id": "hOI8Gls9KV05"
      },
      "execution_count": null,
      "outputs": []
    },
    {
      "cell_type": "markdown",
      "source": [
        "- Interpretasi coding:\n",
        "1. Input program N, a, b, c\n",
        "2. Menggunakan pengulangan for loop untuk mengulang angka dari 1 hingga N\n",
        "3. pada saat menggunakan if elif else, kita menjabarkan dari tiap masing masing angka, apabila kelipatan x habis dibagi a, b, c maka akan keluar output \"SiapBangJago\"\n",
        "4. Apabila kelipatan x habis dibagi a dan b maka akan keluar output \"SiapBang\"\n",
        "5. Apabila kelipatan x habis dibagi b dan c maka akan keluar output \"BangJago\"\n",
        "6. Apabila kelipatan x habis dibagi a maka akan keluar output \"Siap\"\n",
        "7. Apabila kelipatan x habis dibagi b maka akan keluar output \"Bang\"\n",
        "8. Apabila kelipatan x habis dibagi c maka akan keluar output \"Jago\"\n",
        "9. Apabila kelipatan x tidak dapat dibagi a,b,c maka akan keluar output bilangan itu sendiri \"N\"\n",
        "\n",
        "- Interpretasi hasil:\n",
        "\n",
        "Masukkan nilai N = 12 Masukkan Nilai a = 2 Masukkan Nilai b = 3 Masukkan Nilai c = 4 Output : 1 Siap Bang SiapJago 5 SiapBang 7 SiapJago Bang Siap 11 SiapBangJago\n",
        "\n"
      ],
      "metadata": {
        "id": "t9x---59KWVI"
      }
    },
    {
      "cell_type": "markdown",
      "source": [
        "#🏆 POST TEST 🎯#"
      ],
      "metadata": {
        "id": "yayJByNxZReV"
      }
    },
    {
      "cell_type": "markdown",
      "source": [
        "Problem (1)"
      ],
      "metadata": {
        "id": "ySd5-YrUZ6WP"
      }
    },
    {
      "cell_type": "code",
      "source": [
        "def siap_bang_jago(N, A, B, C):\n",
        "    # Iterasi dari 1 sampai N\n",
        "    for x in range(1, N + 1):\n",
        "        output = \"\"\n",
        "\n",
        "        # Jika x kelipatan dari A, tambahkan 'Siap' ke output\n",
        "        if x % A == 0:\n",
        "            output += \"Siap\"\n",
        "\n",
        "        # Jika x kelipatan dari B, tambahkan 'Bang' ke output\n",
        "        if x % B == 0:\n",
        "            output += \"Bang\"\n",
        "\n",
        "        # Jika x kelipatan dari C, tambahkan 'Jago' ke output\n",
        "        if x % C == 0:\n",
        "            output += \"Jago\"\n",
        "\n",
        "        # Jika output kosong, cetak angkanya saja\n",
        "        if output == \"\":\n",
        "            print(x)\n",
        "        else:\n",
        "            print(output)\n",
        "\n",
        "# Input nilai N, A, B, C dari user\n",
        "N = int(input(\"Masukkan nilai N: \"))\n",
        "A = int(input(\"Masukkan nilai A: \"))\n",
        "B = int(input(\"Masukkan nilai B: \"))\n",
        "C = int(input(\"Masukkan nilai C: \"))\n",
        "\n",
        "# Panggil fungsi\n",
        "siap_bang_jago(N, A, B, C)"
      ],
      "metadata": {
        "id": "Ja63tk3ZZYBE",
        "outputId": "043b9761-3a2a-452a-c0c9-f547b2933eb5",
        "colab": {
          "base_uri": "https://localhost:8080/"
        }
      },
      "execution_count": 26,
      "outputs": [
        {
          "output_type": "stream",
          "name": "stdout",
          "text": [
            "Masukkan nilai N: 12\n",
            "Masukkan nilai A: 6\n",
            "Masukkan nilai B: 3\n",
            "Masukkan nilai C: 1\n",
            "Jago\n",
            "Jago\n",
            "BangJago\n",
            "Jago\n",
            "Jago\n",
            "SiapBangJago\n",
            "Jago\n",
            "Jago\n",
            "BangJago\n",
            "Jago\n",
            "Jago\n",
            "SiapBangJago\n"
          ]
        }
      ]
    },
    {
      "cell_type": "code",
      "source": [
        "def ok1_bang_jago(N, A, B, C):\n",
        "    # Iterasi dari 1 sampai N\n",
        "    for x in range(1, N + 1):\n",
        "        output = \"\"\n",
        "\n",
        "        # Jika x kelipatan dari A, tambahkan 'Siap' ke output\n",
        "        if x % A == 0:\n",
        "            output += \"ok\"\n",
        "\n",
        "        # Jika x kelipatan dari B, tambahkan 'Bang' ke output\n",
        "        if x % B == 0:\n",
        "            output += \"Bang\"\n",
        "\n",
        "        # Jika x kelipatan dari C, tambahkan 'Jago' ke output\n",
        "        if x % C == 0:\n",
        "            output += \"Jago\"\n",
        "\n",
        "        # Jika output kosong, cetak angkanya saja\n",
        "        if output == \"\":\n",
        "            print(x)\n",
        "        else:\n",
        "            print(output)\n",
        "\n",
        "# Input nilai N, A, B, C dari user\n",
        "N = int(input(\"Masukkan nilai N: \"))\n",
        "A = int(input(\"Masukkan nilai A: \"))\n",
        "B = int(input(\"Masukkan nilai B: \"))\n",
        "C = int(input(\"Masukkan nilai C: \"))\n",
        "\n",
        "# Panggil fungsi\n",
        "ok_bang_jago(N, A, B, C)\n",
        ""
      ],
      "metadata": {
        "id": "8Z1-OUKIa7VR",
        "outputId": "b1290bc8-a27a-42cc-9d37-181eae551742",
        "colab": {
          "base_uri": "https://localhost:8080/"
        }
      },
      "execution_count": 34,
      "outputs": [
        {
          "output_type": "stream",
          "name": "stdout",
          "text": [
            "Masukkan nilai N: 10\n",
            "Masukkan nilai A: 5\n",
            "Masukkan nilai B: 2\n",
            "Masukkan nilai C: 1\n",
            "Jago\n",
            "BangJago\n",
            "Jago\n",
            "BangJago\n",
            "okJago\n",
            "BangJago\n",
            "Jago\n",
            "BangJago\n",
            "Jago\n",
            "okBangJago\n"
          ]
        }
      ]
    },
    {
      "cell_type": "markdown",
      "source": [
        "**Interpretasi coding**:\n",
        "\n",
        "Fungsi siap_bang_jago(N, A, B, C):\n",
        "\n",
        "1.**Fungsi ini akan melakukan iterasi dari angka 1 hingga N**\n",
        "\n",
        "Setiap angka diperiksa apakah merupakan kelipatan dari A, B, atau C.\n",
        "\n",
        "Jika angka tersebut adalah kelipatan dari A, maka akan ditambahkan kata \"Siap\" ke variabel output.\n",
        "\n",
        "Jika angka tersebut adalah kelipatan dari B, maka akan ditambahkan kata \"Bang\".\n",
        "\n",
        "Jika angka tersebut adalah kelipatan dari C, maka akan ditambahkan kata \"Jago\".\n",
        "\n",
        "Jika suatu angka bukan kelipatan dari A, B, atau C, maka angka itu sendiri yang akan ditampilkan.\n",
        "\n",
        "Setelah pengecekan selesai untuk setiap angka, hasilnya dicetak: baik berupa angka itu sendiri atau gabungan kata \"Siap\", \"Bang\", \"Jago\" tergantung kondisi kelipatannya.\n",
        "\n",
        "2.**Iterasi Angka (Looping dari 1 sampai N)**:\n",
        "\n",
        "Program akan melakukan pengecekan pada setiap angka, mulai dari 1 hingga N. Untuk setiap angka, program akan melihat apakah angka tersebut bisa dibagi habis (kelipatan) oleh A, B, atau C\n",
        "\n",
        "3.**Pengecekan Kelipatan**:\n",
        "Penggunaan operator modulus (%) digunakan untuk memeriksa apakah suatu angka merupakan kelipatan dari A, B, atau C.\n",
        "\n",
        "Contoh: Jika x % A == 0, artinya x adalah kelipatan dari A\n",
        "\n",
        "4.**Penggabungan Output**:\n",
        "Jika suatu angka adalah kelipatan dari lebih dari satu bilangan (misalnya kelipatan A dan B), maka kedua kata yang sesuai akan digabungkan dalam output, contohnya: \"SiapBang\"\n",
        "\n",
        "5.**Input**:\n",
        "Program meminta pengguna untuk memasukkan nilai N (batas iterasi) serta angka A, B, dan C\n",
        "\n",
        "**Interpretasi hasil:**\n",
        "\n",
        "**Test Case 1:**\n",
        "\n",
        " Angka 1: Bukan kelipatan dari A, B, atau C, jadi program mencetak angka 1.\n",
        "\n",
        "Angka 2: Kelipatan dari A (2), maka program mencetak \"Siap\".\n",
        "\n",
        "Angka 3: Kelipatan dari B (3), maka program mencetak \"Bang\".\n",
        "\n",
        "Angka 4: Kelipatan dari A dan C (4), maka program mencetak \"SiapJago\".\n",
        "\n",
        "Angka 5: Bukan kelipatan dari A, B, atau C, jadi program mencetak angka 5.\n",
        "\n",
        "Angka 6: Kelipatan dari A (2) dan B (3), maka program mencetak \"SiapBang\".\n",
        "\n",
        "Angka 7: Bukan kelipatan dari A, B, atau C, jadi program mencetak angka 7.\n",
        "\n",
        "Angka 8: Kelipatan dari A (2) dan C (4), maka program mencetak \"SiapJago\".\n",
        "\n",
        "Angka 9: Kelipatan dari B (3), maka program mencetak \"Bang\".\n",
        "\n",
        "Angka 10: Kelipatan dari A (2), maka program mencetak \"Siap\".\n",
        "\n",
        "Angka 11: Bukan kelipatan dari A, B, atau C, jadi program mencetak angka 11.\n",
        "\n",
        "Angka 12: Kelipatan dari A (2), B (3), dan C (4), maka program mencetak \"SiapBangJago\"\n",
        "\n",
        "**Test Case 2:**\n",
        "\n",
        " setiap angka dari 1 hingga 5 adalah kelipatan dari A, B, dan C (semua angka adalah kelipatan dari 1), maka setiap angka dari 1 hingga 5 akan mencetak \"SiapBangJago\"."
      ],
      "metadata": {
        "id": "NCCxYLoNcI3T"
      }
    },
    {
      "cell_type": "markdown",
      "source": [
        "📌Catatan:\n",
        "  - Notebook python ini dibuat untuk memudahkan temen-temen belajar ngoding dan pengumpulan tugas.\n",
        "  - Silakan download notebook ini lalu upload di Google Collab milik kalian agar format `pertemuan`, `topik pertemuan`,\n",
        "`tanggal`, `deskripsi pembahasan materi`, `baris coding` dan `interpretasi` bisa disesuaikan dengan kebutuhan teman-teman.\n",
        "\n",
        "  - Interpretasi coding dan hasil dimaksudkan agar teman-teman semakin memahami apa yang dipelajari.\n",
        "\n",
        "  - Deskripsi pembahasan materi dimaksudkan agar teman-teman semakin memahami apa fokus yang dipelajari.\n",
        "\n",
        "  - Tulisan di setiap sebelum baris code disebut `markdown`. Ada beberapa jenis simbol yang memudahkan kepenulisan `markdown` kita, yaitu seperti : untuk mengatur ukuran tulisan biasanya tulisan pada header menggunakan ini`#`, `##`, `###`, untuk membuat pointer menggunakan ini `-`, untuk membuat tulisan ter-highlight menggunakan ini *` `* , untuk short-cut membuat tulisan jadi **bold** gunakan ini `** **`, dan untuk *tulisan miring* gunakan ini `* *` .\n",
        "\n",
        "  - Semangat belajar! 🌟✨\n",
        "\n",
        "©️ LABORATORIUM SAINS DATA 2024"
      ],
      "metadata": {
        "id": "D-tRQnbQK69l"
      }
    }
  ]
}